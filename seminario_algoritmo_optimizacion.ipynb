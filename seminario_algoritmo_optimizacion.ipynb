{
 "cells": [
  {
   "cell_type": "markdown",
   "metadata": {
    "colab_type": "text",
    "id": "hVbXYX-RfPWh"
   },
   "source": [
    "# Algoritmos de optimización - Seminario<br>\n",
    "Nombre y Apellidos: Pedro Martinez <br>\n",
    "Url: https://github.com/.../03MAIR---Algoritmos-de-Optimizacion---2019/tree/master/SEMINARIO<br>\n",
    "Problema: Organizar sesiones de doblaje.\n",
    "\n",
    "\n",
    "Descripción del problema:\n",
    "\n",
    "Se precisa coordinar el doblaje de una película. Los actores del doblaje deben coincidir en las\n",
    "tomas en las que sus personajes aparecen juntos en las diferentes tomas. Los actores de\n",
    "doblaje cobran todos la misma cantidad por cada día que deben desplazarse hasta el estudio\n",
    "de grabación independientemente del número de tomas que se graben. No es posible grabar\n",
    "más de 6 tomas por día. El objetivo es planificar las sesiones por día de manera que se gasto\n",
    "por los servicios de los actores de doblaje sea el menor posible. Los datos son:\n",
    "\n",
    "\n",
    "- numero de actores: 10\n",
    "- numero de tomas: 30\n",
    "\n",
    "\n",
    "                                        "
   ]
  },
  {
   "cell_type": "markdown",
   "metadata": {},
   "source": [
    "| Actor | 1  | 2  | 3  | 4  | 5  | 6 | 7 | 8 | 9 | 10 |   |       |\n",
    "|-------|----|----|----|----|----|---|---|---|---|----|---|-------|\n",
    "| Toma  |    |    |    |    |    |   |   |   |   |    |   | Total |\n",
    "| 1     | 1  | 1  | 1  | 1  | 1  | 0 | 0 | 0 | 0 | 0  |   | 5     |\n",
    "| 2     | 0  | 0  | 1  | 1  | 1  | 0 | 0 | 0 | 0 | 0  |   | 3     |\n",
    "| 3     | 0  | 1  | 0  | 0  | 1  | 0 | 1 | 0 | 0 | 0  |   | 3     |\n",
    "| 4     | 1  | 1  | 0  | 0  | 0  | 0 | 1 | 1 | 0 | 0  |   | 4     |\n",
    "| 5     | 0  | 1  | 0  | 1  | 0  | 0 | 0 | 1 | 0 | 0  |   | 3     |\n",
    "| 6     | 1  | 1  | 0  | 1  | 1  | 0 | 0 | 0 | 0 | 0  |   | 4     |\n",
    "| 7     | 1  | 1  | 0  | 1  | 1  | 0 | 0 | 0 | 0 | 0  |   | 4     |\n",
    "| 8     | 1  | 1  | 0  | 0  | 0  | 1 | 0 | 0 | 0 | 0  |   | 3     |\n",
    "| 9     | 1  | 1  | 0  | 1  | 0  | 0 | 0 | 0 | 0 | 0  |   | 3     |\n",
    "| 10    | 1  | 1  | 0  | 0  | 0  | 1 | 0 | 0 | 1 | 0  |   | 4     |\n",
    "| 11    | 1  | 1  | 1  | 0  | 1  | 0 | 0 | 1 | 0 | 0  |   | 5     |\n",
    "| 12    | 1  | 1  | 1  | 1  | 0  | 1 | 0 | 0 | 0 | 0  |   | 5     |\n",
    "| 13    | 1  | 0  | 0  | 1  | 1  | 0 | 0 | 0 | 0 | 0  |   | 3     |\n",
    "| 14    | 1  | 0  | 1  | 0  | 0  | 1 | 0 | 0 | 0 | 0  |   | 3     |\n",
    "| 15    | 1  | 1  | 0  | 0  | 0  | 0 | 1 | 0 | 0 | 0  |   | 3     |\n",
    "| 16    | 0  | 0  | 0  | 1  | 0  | 0 | 0 | 0 | 0 | 1  |   | 2     |\n",
    "| 17    | 1  | 0  | 1  | 0  | 0  | 0 | 0 | 0 | 0 | 0  |   | 2     |\n",
    "| 18    | 0  | 0  | 1  | 0  | 0  | 1 | 0 | 0 | 0 | 0  |   | 2     |\n",
    "| 19    | 1  | 0  | 1  | 0  | 0  | 0 | 0 | 0 | 0 | 0  |   | 2     |\n",
    "| 20    | 1  | 0  | 1  | 1  | 1  | 0 | 0 | 0 | 0 | 0  |   | 4     |\n",
    "| 21    | 0  | 0  | 0  | 0  | 0  | 1 | 0 | 1 | 0 | 0  |   | 2     |\n",
    "| 22    | 1  | 1  | 1  | 1  | 0  | 0 | 0 | 0 | 0 | 0  |   | 4     |\n",
    "| 23    | 1  | 0  | 1  | 0  | 0  | 0 | 0 | 0 | 0 | 0  |   | 2     |\n",
    "| 24    | 0  | 0  | 1  | 0  | 0  | 1 | 0 | 0 | 0 | 0  |   | 2     |\n",
    "| 25    | 1  | 1  | 0  | 1  | 0  | 0 | 0 | 0 | 0 | 1  |   | 4     |\n",
    "| 26    | 1  | 0  | 1  | 0  | 1  | 0 | 0 | 0 | 1 | 0  |   | 4     |\n",
    "| 27    | 0  | 0  | 0  | 1  | 1  | 0 | 0 | 0 | 0 | 0  |   | 2     |\n",
    "| 28    | 1  | 0  | 0  | 1  | 0  | 0 | 0 | 0 | 0 | 0  |   | 2     |\n",
    "| 29    | 1  | 0  | 0  | 0  | 1  | 1 | 0 | 0 | 0 | 0  |   | 3     |\n",
    "| 30    | 1  | 0  | 0  | 1  | 0  | 0 | 0 | 0 | 0 | 0  |   | 2     |\n",
    "|       |    |    |    |    |    |   |   |   |   |    |   |       |\n",
    "| TOTAL | 22 | 14 | 13 | 15 | 11 | 8 | 3 | 4 | 2 | 2  |   |       |\n"
   ]
  },
  {
   "cell_type": "code",
   "execution_count": 1,
   "metadata": {},
   "outputs": [
    {
     "name": "stdout",
     "output_type": "stream",
     "text": [
      "[[1. 1. 1. 1. 1. 0. 0. 0. 0. 0.]\n",
      " [0. 0. 1. 1. 1. 0. 0. 0. 0. 0.]\n",
      " [0. 1. 0. 0. 1. 0. 1. 0. 0. 0.]\n",
      " [1. 1. 0. 0. 0. 0. 1. 1. 0. 0.]\n",
      " [0. 1. 0. 1. 0. 0. 0. 1. 0. 0.]\n",
      " [1. 1. 0. 1. 1. 0. 0. 0. 0. 0.]\n",
      " [1. 1. 0. 1. 1. 0. 0. 0. 0. 0.]\n",
      " [1. 1. 0. 0. 0. 1. 0. 0. 0. 0.]\n",
      " [1. 1. 0. 1. 0. 0. 0. 0. 0. 0.]\n",
      " [1. 1. 0. 0. 0. 1. 0. 0. 1. 0.]\n",
      " [1. 1. 1. 0. 1. 0. 0. 1. 0. 0.]\n",
      " [1. 1. 1. 1. 0. 1. 0. 0. 0. 0.]\n",
      " [1. 0. 0. 1. 1. 0. 0. 0. 0. 0.]\n",
      " [1. 0. 1. 0. 0. 1. 0. 0. 0. 0.]\n",
      " [1. 1. 0. 0. 0. 0. 1. 0. 0. 0.]\n",
      " [0. 0. 0. 1. 0. 0. 0. 0. 0. 1.]\n",
      " [1. 0. 1. 0. 0. 0. 0. 0. 0. 0.]\n",
      " [0. 0. 1. 0. 0. 1. 0. 0. 0. 0.]\n",
      " [1. 0. 1. 0. 0. 0. 0. 0. 0. 0.]\n",
      " [1. 0. 1. 1. 1. 0. 0. 0. 0. 0.]\n",
      " [0. 0. 0. 0. 0. 1. 0. 1. 0. 0.]\n",
      " [1. 1. 1. 1. 0. 0. 0. 0. 0. 0.]\n",
      " [1. 0. 1. 0. 0. 0. 0. 0. 0. 0.]\n",
      " [0. 0. 1. 0. 0. 1. 0. 0. 0. 0.]\n",
      " [1. 1. 0. 1. 0. 0. 0. 0. 0. 1.]\n",
      " [1. 0. 1. 0. 1. 0. 0. 0. 1. 0.]\n",
      " [0. 0. 0. 1. 1. 0. 0. 0. 0. 0.]\n",
      " [1. 0. 0. 1. 0. 0. 0. 0. 0. 0.]\n",
      " [1. 0. 0. 0. 1. 1. 0. 0. 0. 0.]\n",
      " [1. 0. 0. 1. 0. 0. 0. 0. 0. 0.]]\n"
     ]
    }
   ],
   "source": [
    "import numpy as np\n",
    "\n",
    "doblaje = np.genfromtxt('doblaje.csv', delimiter=',')\n",
    "print(doblaje)"
   ]
  },
  {
   "cell_type": "markdown",
   "metadata": {},
   "source": [
    "## Estudio del espacio de soluciones.\n"
   ]
  },
  {
   "cell_type": "markdown",
   "metadata": {
    "colab_type": "text",
    "id": "3_-exlrTgLd-"
   },
   "source": [
    "(*)¿Cuantas posibilidades hay sin tener en cuenta las restricciones?<br>\n",
    "¿Cuantas posibilidades hay teniendo en cuenta todas las restricciones.\n",
    "\n",
    "\n",
    "Si no tenemos en cuenta que el numero de escenas maximo por día es 6, para contar el numero de organizaciones diferentes tenemos que tener en cuenta tres simetrias que contiene el problema:\n",
    "\n",
    "- El orden de los dias no es relevante y hace indistinguibles dos repartos de escenas que solo se distingan en una permutación de los dias:\n",
    "    ej.  dia 1 = (1,2,3), dia 2 = (4,5,6) es el mismo escenario que dia 1 = (4,5,6) dia 2 = (1,2,3)\n",
    "- El orden de las escenas de en un mismo dia es irrelevante:\n",
    "    ej. (1,2,3)=(2,3,1)\n",
    "- Hay elementos similates como en nuestro caso son las escenas 6-7; 17-19-23; 28-30, esto hace indistinguible dos repartos de la forma:\n",
    "\n",
    "    ej. (1,2,28)=(1,2,30)\n",
    "  \n",
    "  Esta simetria esta mas relacionada con estos datos en particular que con la estructura combinatoria del problema, por ello la tendremos en cuenta en la funcion para optimizar por fuerza bruta, pero no para el estudio combinatorio del problema.\n",
    "\n",
    "En terminos combinatios podemos reformular el problema como:\n",
    "\n",
    "Sea $\\chi$ un conjunto de n elementos distinguibles {1,2,3,4...n} (en nuesto caso n=30 escenas) y A una colección de subconjuntos {$A_1,A_2,...A_k$} (en nuesto caso A_i es el i-esimo día) de $\\chi$ tal que:\n",
    "\n",
    "- forman una partición de $\\chi$ es decir $\\chi =\\bigcup^k_{i=1}A_i$ y $A_i \\cap A_j = \\emptyset  $\n",
    "\n",
    "- ningun A_i es un conjunto vacio (no tiene  sentido un dia sin escenas).\n",
    "\n",
    "esta estrucutura se llama una partición de $\\chi$ en k bloques no vacios. Como vemos el orden de los bolques es irrelebante y el orden de cada elemento en cada subconjunto tampoco es importante.\n",
    "\n",
    "Como un ejemplo podemos mostrar el numero de particiones del conjunto (1,2,3)\n",
    "\n",
    "$$\\chi=(1,2,3) \\rightarrow  (1,2,3)\\wr(1,2)\\cup(3)\\wr(1,3)\\cup(2)\\wr(2,3)\\cup(1)\\wr(1)\\cup(2)\\cup(3)$$\n",
    "\n",
    "\n",
    "Esbozamos nuestra forma de contar el nuemero de soluciones:\n",
    "\n",
    "1. Calculamos los  tamaños de los subconjuntos, esto es las formas que hay de distribuir 30 elementos en subconjuntos, en nuestro ejemplo anterior las formas de distribuir 3 elementos en subconjuntos son: un subconjunto de 3 elementos, un subconjunto con 1 y otro con 2 y por ultimo 3 subconjuntos de un elemento llamaremos a cada una de estas distribuciones un horario. Es facil ver que las formas de distribuir n elementos en subconjuntos sin dejar ningun subconjunto vacio son las formas que hay de sumar n, en combinatoria conocemos esto como un particion de un numero. Para este paso usaremos una versión del problema del cambio visto en clase:\n",
    "\n",
    "\n",
    "###### Algoritmo paso 1\n",
    " - Empezamos con el cambio trivial, esto es si tenemos que devolver n es suficiente una moneda de n o en terminos del ejercicio seria grabar las 30 escenas en un dia.\n",
    " \n",
    " - Para la siguiente forma de sumar n encontramos el primer elemento no uno llamamos a este p(k) (primero por la derecha) de la particion de n anterior y contamos la cantidad de unos en la variable 'unos'.\n",
    " \n",
    " - decrecemos p(k) en uno y aumentamos la variable 'unos' en uno, nos encontramos con dos casos:\n",
    "     - $p(k)\\geq unos$: ponemos unos en p(k+1) y p(0,1,2...k+1) es lanueva particion n.\n",
    "     - $p(k)<unos$: pasamos al siguiente paso.\n",
    " - copiamos p(k) en la siguiente posición e incrementamos k, reducimos la cantidad de'unos' en p(k) y repetimos proceso hasta que unos<p(k), una vez se cumpla esa condicion colocamos unos al final de la lista, esa es nuesta siguiente partición de n.\n",
    "\n",
    " - El proceso acaba cuando todos los elemento son unos, en nuestro caso 30 unos\n",
    " \n",
    " - para tener en cuenta la ligaduras en las proximas secciones añadimos un parametro por el cual se seleccionan solo las formas de sumar n que no contengan numeros mayores que cierto elemento  la partición al conjunto de particiones aceptable solo si la partición no contiene elementos mayores al numero maximo de escenas por día."
   ]
  },
  {
   "cell_type": "code",
   "execution_count": 2,
   "metadata": {
    "colab": {},
    "colab_type": "code",
    "id": "iq6Fe32MgpDX",
    "scrolled": false
   },
   "outputs": [
    {
     "name": "stdout",
     "output_type": "stream",
     "text": [
      "Ejemplo sin ligaduras, 6 escenas\n",
      "[3]\n",
      "[2, 1]\n",
      "[1, 1, 1]\n",
      "Ejemplo con ligaduras, 6 escenas y maximo 3 por dia\n",
      "[3, 3]\n",
      "[3, 2, 1]\n",
      "[3, 1, 1, 1]\n",
      "[2, 2, 2]\n",
      "[2, 2, 1, 1]\n",
      "[2, 1, 1, 1, 1]\n",
      "[1, 1, 1, 1, 1, 1]\n"
     ]
    }
   ],
   "source": [
    "\n",
    "def horarios(n,maximo=0):\n",
    "    \n",
    "    if maximo==0: # si no se especifica lo contrario no hay numero maximo de escenas por dia.\n",
    "        maximo=n\n",
    "        \n",
    "    horarios = list() #lista de horarios.\n",
    "    \n",
    "    p = [0] * n # lista donde trabajaremos.   \n",
    "    k = 0 # primer horario el elemento no nulo es el primero\n",
    "    p[k] = n # el elemento no nulo es n \n",
    "\n",
    "    \n",
    "    while True: \n",
    "        \n",
    "        # añadimos horario solo si se cumplen las ligaduras\n",
    "        if all([x<=maximo for x in p]):\n",
    "            horarios.append(p[:k+1])\n",
    "                \n",
    "          # Generamos proximo horario\n",
    "        unos = 0 # cantidad de dias con una escena unos\n",
    "        while k >= 0 and p[k] == 1: \n",
    "            unos += p[k]  # encuentra primer dia con mas de una escena\n",
    "            k -= 1        #aumenta unos  y cambia indice.\n",
    "  \n",
    "        # si todos los dias con una escena es el ultimo horario.\n",
    "        if k < 0: \n",
    "            return horarios\n",
    "        \n",
    "        # le resta uno a particion anterior  \n",
    "        # le suma uno a la cantidad de unos\n",
    "        p[k] -= 1\n",
    "        unos += 1\n",
    "        #si la cantidad de unos es mayor que p[k]\n",
    "        #dividimos la cantidad de unos en bloques de tamaño p[k] \n",
    "        while unos > p[k]: \n",
    "            p[k + 1] = p[k] \n",
    "            unos = unos - p[k] \n",
    "            k += 1\n",
    "        # unos sobrantes en la la siguiente posición.        \n",
    "        p[k + 1] = unos \n",
    "        k += 1\n",
    "\n",
    "#ejemplo sin ligaduras.\n",
    "p=horarios(3)\n",
    "print('Ejemplo sin ligaduras, 6 escenas')\n",
    "for i in p:\n",
    "    print(i)\n",
    "\n",
    "#ejemplo con ligaduras.\n",
    "print('Ejemplo con ligaduras, 6 escenas y maximo 3 por dia')\n",
    "p=horarios(6,3)\n",
    "\n",
    "for i in p:\n",
    "    print(i)\n",
    "\n"
   ]
  },
  {
   "cell_type": "code",
   "execution_count": 3,
   "metadata": {},
   "outputs": [
    {
     "name": "stdout",
     "output_type": "stream",
     "text": [
      "1206\n"
     ]
    }
   ],
   "source": [
    "print(len(horarios(30,6)))"
   ]
  },
  {
   "cell_type": "markdown",
   "metadata": {},
   "source": [
    "2. Una vez tenemos los posibles horarios (formas de distribuir las escenas en los diferentes dias), vemos como se pueden ordenar las escenas en ese horario.\n",
    "Para ello vemos que si estamos por ejemplo ( con 3 escenas) en el horario con dias $(2,1)$ las formas de ordenar las escenas en esos dias seran los numeros combinatorios. Para nuestro ejemplo seria:\n",
    "\n",
    "$$(2,1)=\\binom{3}{2}\\binom{1}{1}==\\binom{3}{2,1}\\frac{3!}{2!1!}=3$$\n",
    "\n",
    "3. Por ultimo no podemos olvidar que si contamos las escenas de esta forma los dias son distinguibles por el numero de escenas que contienen el dia, pero indistinguibles si los dias contienen el mismo numero de escenas. si no tubiesemos en cuenta esto las formas de distribuir 3 escenas en 3 dia de 1 escena cada dia, seria $\\binom{3}{1,1,1}=6$ cuando en realidad solo hay una unica forma. Para tener este factor presente solo tenemos que dividir por la cantidad de formas de ordenar  m dias iguales esto es 3! en nuesto caso.\n",
    "\n",
    "$$(1,1,1)=\\frac{\\binom{3}{1,1,1}}{3!}=\\frac{3!}{1!1!1!}\\frac{1}{3!}$$\n",
    "\n",
    "4. Sumar todos los horarios.\n",
    "\n",
    "$$N_{soluciones}=\\frac{\\binom{3}{3}}{1!}+\\frac{\\binom{3}{1,2}}{1!1!}+\\frac{\\binom{3}{1,1,1}}{3!}=5$$\n",
    "\n",
    "\n",
    "\n"
   ]
  },
  {
   "cell_type": "code",
   "execution_count": 4,
   "metadata": {},
   "outputs": [
    {
     "name": "stdout",
     "output_type": "stream",
     "text": [
      "1.0\n",
      "2.0\n",
      "5.0\n",
      "15.0\n",
      "52.0\n"
     ]
    }
   ],
   "source": [
    "from itertools import groupby\n",
    "from numpy import prod\n",
    "import  math \n",
    "from scipy.special import binom\n",
    "\n",
    "def multinomial(lst):\n",
    "    #calcula los coeficientes multinomiales.\n",
    "    res, i = 1, sum(lst)\n",
    "    i0 = lst.index(max(lst))\n",
    "    for a in lst[:i0] + lst[i0+1:]:\n",
    "        for j in range(1,a+1):\n",
    "            res *= i\n",
    "            res //= j\n",
    "            i -= 1\n",
    "    return res\n",
    "\n",
    "\n",
    "def ordenar_escenas(horario):\n",
    "    #formas de colocar escenas en un horario.\n",
    "    dias_mismo_numero_escenas=list([len(list(j)) for k,j in groupby(sorted(horario))])\n",
    "    \n",
    "    orden_dias_escenas=list(map(lambda x:math.factorial(x),dias_mismo_numero_escenas))\n",
    "    \n",
    "    dias_indistinguibles= prod(orden_dias_escenas)\n",
    "    \n",
    "    ordenes_escenas= multinomial(horario)/dias_indistinguibles\n",
    "    \n",
    "    return ordenes_escenas\n",
    "\n",
    "\n",
    "def contar_soluciones(escenas,maximo_dia=0):\n",
    "    #suma todas las posibilidades de los diferentes horarios\n",
    "    horarios_posibles=horarios(escenas,maximo_dia)\n",
    "    soluciones=0 \n",
    "    for horario in horarios_posibles:\n",
    "        soluciones+=ordenar_escenas(horario)\n",
    "    return soluciones\n",
    "\n",
    "\n",
    "for i in range(1,6):   \n",
    "    print(contar_soluciones(i))                            \n",
    "                \n"
   ]
  },
  {
   "cell_type": "markdown",
   "metadata": {},
   "source": [
    "Un indicio de que se trata de un resultado corrector es que esta secuencia de numeros es concida en combinatoria como numeros de Bell. que indican el numero de formas de particionar un conjunto de n elementos.\n",
    "\n",
    "Calculamos ahora el caso de 30 escenas con y sin restricciones:"
   ]
  },
  {
   "cell_type": "code",
   "execution_count": 5,
   "metadata": {},
   "outputs": [
    {
     "name": "stdout",
     "output_type": "stream",
     "text": [
      "Hay 8.450859747066342e+23 formas de organizar 30 escenas sin limite de escenas por día\n"
     ]
    }
   ],
   "source": [
    "print('Hay {} formas de organizar 30 escenas sin limite de escenas por día'.format(contar_soluciones(30)))"
   ]
  },
  {
   "cell_type": "code",
   "execution_count": 6,
   "metadata": {},
   "outputs": [
    {
     "name": "stdout",
     "output_type": "stream",
     "text": [
      "Hay 7.247301838530936e+23 formas de organizar 30 escenas sin poner mas de 6 por día \n"
     ]
    }
   ],
   "source": [
    "print('Hay {} formas de organizar 30 escenas sin poner mas de 6 por día '.format(contar_soluciones(30,6)))"
   ]
  },
  {
   "cell_type": "markdown",
   "metadata": {
    "colab_type": "text",
    "id": "dzynfVJahHoY"
   },
   "source": [
    "Modelo para el espacio de soluciones<br>\n",
    "(*) ¿Cual es la estructura de datos que mejor se adapta al problema? Argumentalo.(Es posible que hayas elegido una al principio y veas la necesidad de cambiar, arguentalo)\n"
   ]
  },
  {
   "cell_type": "markdown",
   "metadata": {},
   "source": [
    "La mejor estructura de datos para el problema clarameten son las estructuras de conjuntos disjuntos, ademas como hemos dicho antes pude haber elementos repetidos por lo tanto se trata de una estrucutra conocida en combinatoria como multiconjunto, necesitamos las particiones de un multiconjunto.\n",
    "\n",
    "Para trabajar con estas estructuras de datos usaremos el paquete de python sympy, en particular la función del  modulo 'utilities.iterables' llamada 'multiset_partitions', esta nos proporciona las particiones de un multiconjunto teniendo encuenta todas las simetrias del problema.\n",
    "\n",
    "Ponemos un ejemplo:"
   ]
  },
  {
   "cell_type": "code",
   "execution_count": 7,
   "metadata": {},
   "outputs": [
    {
     "name": "stdout",
     "output_type": "stream",
     "text": [
      "[[[1, 1, 2]], [[1, 1], [2]], [[1, 2], [1]], [[1], [1], [2]]]\n"
     ]
    }
   ],
   "source": [
    "from sympy.utilities.iterables import multiset_partitions\n",
    "\n",
    "print([i for i in multiset_partitions([1,1,2])])\n"
   ]
  },
  {
   "cell_type": "markdown",
   "metadata": {},
   "source": [
    "Como vemos devuelve las particiones del conjunto teniendo en cuenta que hay elementos repetidos.\n",
    "Para nuestro proposito solo nos interesan las particiones que no contienen subconjuntos de mas de 6 elementos, es decir que tenemos que filtrar las particiones dadas por la función multiset_partitions y coger solo la que contengan subconjuntos de 6 o menos elementos."
   ]
  },
  {
   "cell_type": "markdown",
   "metadata": {
    "colab_type": "text",
    "id": "xFIJrOwKi2Ti"
   },
   "source": [
    "Respuesta"
   ]
  },
  {
   "cell_type": "markdown",
   "metadata": {
    "colab_type": "text",
    "id": "7Z9U2W7bi-XS"
   },
   "source": [
    "Según el modelo para el espacio de soluciones<br>\n",
    "(*)¿Cual es la función objetivo?\n",
    "\n",
    "Dado un dia del horario cogemos las escenas correspondientes a tal dia, por ejemplo si tenemos en un dia las escenas 1 y 2, tenemos la matriz:\n",
    "$$\n",
    "\\begin{pmatrix}\n",
    "1 &  1& 1 & 1 & 1 & 0 & 0 &  0& 0 & 0\\\\ \n",
    "0 & 0 & 1 &  1& 1 & 0 &0  &0  & 0 & 0\n",
    "\\end{pmatrix}\n",
    "$$\n",
    "\n",
    "La sumamos por columnas, teniendo :\n",
    "\n",
    "$$\\begin{pmatrix}\n",
    "1 & 1 & 2 & 2 & 2 & 0 & 0 & 0 & 0 & \n",
    "\\end{pmatrix}$$\n",
    "\n",
    "Por ultimo contamos los elementos no nulos, ese numero es la cantidad de actores necesarios en ese dia, el coste total de un reparto de las escenas en una particion sera la suma del coste de cada dia.\n",
    "\n",
    "Elegimos esta función objetivo debido a que todos los actores cobran lo mismo y el coste de un horario puede ser determinado solo por la presencia o no de un actor en un dia.\n",
    "\n",
    "\n",
    "(*)¿Es un problema de maximización o minimización?\n",
    "\n",
    "Claramente si queremos gastar lo menos posible, se trata de un problema de minimizar la función objetivo lo que en nuestro problema significa llamar a los actores el minimo numero de dias posibles."
   ]
  },
  {
   "cell_type": "markdown",
   "metadata": {
    "colab_type": "text",
    "id": "hBalWLM7j1_d"
   },
   "source": [
    "Respuesta"
   ]
  },
  {
   "cell_type": "code",
   "execution_count": 9,
   "metadata": {
    "colab": {},
    "colab_type": "code",
    "id": "pDA-rg3Gj5Lz"
   },
   "outputs": [
    {
     "name": "stdout",
     "output_type": "stream",
     "text": [
      "[[1. 1. 1. 1. 1. 0. 0. 0. 0. 0.]\n",
      " [0. 0. 1. 1. 1. 0. 0. 0. 0. 0.]\n",
      " [0. 1. 0. 0. 1. 0. 1. 0. 0. 0.]] \n",
      "\n",
      "[[0, 1, 2]]\n",
      "6\n",
      "[[0, 1], [2]]\n",
      "8\n",
      "[[0, 2], [1]]\n",
      "9\n",
      "[[0], [1, 2]]\n",
      "10\n",
      "[[0], [1], [2]]\n",
      "11\n"
     ]
    }
   ],
   "source": [
    "def funcion_coste(calendario,escenas):\n",
    "    coste=0\n",
    "    for dia in calendario:\n",
    "        actores_dias=np.sum(escenas[dia,:],axis=0)\n",
    "        actores_dias=len(np.nonzero(actores_dias)[0])\n",
    "        coste+=actores_dias \n",
    "    return coste\n",
    "\n",
    "\n",
    "#cogemos una porcion del problema para probar la función coste.\n",
    "\n",
    "subconjunto_doblaje=doblaje[:3]\n",
    "print(subconjunto_doblaje,'\\n')\n",
    "\n",
    "for i in multiset_partitions(list(range(3))):\n",
    "    print(i)\n",
    "    print(funcion_coste(i,subconjunto_doblaje))\n"
   ]
  },
  {
   "cell_type": "markdown",
   "metadata": {},
   "source": [
    "Como vemos funciona correctamente."
   ]
  },
  {
   "cell_type": "markdown",
   "metadata": {
    "colab_type": "text",
    "id": "rlnTYgY1j6I2"
   },
   "source": [
    "Diseña un algoritmo para resolver el problema por fuerza bruta"
   ]
  },
  {
   "cell_type": "markdown",
   "metadata": {
    "colab_type": "text",
    "id": "70rDgxYXkC8r"
   },
   "source": [
    "Respuesta:\n",
    "\n",
    "El Algoritmo es simple, iteramos en cada salida de la función multiset_partition, comprobamos si algun dia contiene mas de 6 escenas, es decir si algun subconjunto tiene mas de 6 elementos, si cumple con nuestas restricciones calculamos la función coste, si mejora nuestro mejor resultado actualizamos."
   ]
  },
  {
   "cell_type": "code",
   "execution_count": 25,
   "metadata": {
    "colab": {},
    "colab_type": "code",
    "id": "CJb5sQ0qkENy",
    "scrolled": true
   },
   "outputs": [
    {
     "ename": "KeyboardInterrupt",
     "evalue": "",
     "output_type": "error",
     "traceback": [
      "\u001b[1;31m---------------------------------------------------------------------------\u001b[0m",
      "\u001b[1;31mKeyboardInterrupt\u001b[0m                         Traceback (most recent call last)",
      "\u001b[1;32m<ipython-input-25-812f3909941f>\u001b[0m in \u001b[0;36m<module>\u001b[1;34m\u001b[0m\n\u001b[0;32m     24\u001b[0m \u001b[1;33m\u001b[0m\u001b[0m\n\u001b[0;32m     25\u001b[0m \u001b[1;31m#probamos para nuestro problema.\u001b[0m\u001b[1;33m\u001b[0m\u001b[1;33m\u001b[0m\u001b[1;33m\u001b[0m\u001b[0m\n\u001b[1;32m---> 26\u001b[1;33m \u001b[0moptimizar\u001b[0m\u001b[1;33m(\u001b[0m\u001b[0mdoblaje\u001b[0m\u001b[1;33m,\u001b[0m\u001b[1;36m6\u001b[0m\u001b[1;33m)\u001b[0m\u001b[1;33m\u001b[0m\u001b[1;33m\u001b[0m\u001b[0m\n\u001b[0m",
      "\u001b[1;32m<ipython-input-25-812f3909941f>\u001b[0m in \u001b[0;36moptimizar\u001b[1;34m(escenas, max_dia)\u001b[0m\n\u001b[0;32m     12\u001b[0m     \u001b[0mmultiset\u001b[0m\u001b[1;33m=\u001b[0m\u001b[0msum\u001b[0m\u001b[1;33m(\u001b[0m\u001b[0mmultiset\u001b[0m\u001b[1;33m,\u001b[0m\u001b[1;33m[\u001b[0m\u001b[1;33m]\u001b[0m\u001b[1;33m)\u001b[0m\u001b[1;33m\u001b[0m\u001b[1;33m\u001b[0m\u001b[0m\n\u001b[0;32m     13\u001b[0m     \u001b[1;32mfor\u001b[0m \u001b[0mi\u001b[0m \u001b[1;32min\u001b[0m \u001b[0mrange\u001b[0m\u001b[1;33m(\u001b[0m\u001b[1;36m5\u001b[0m\u001b[1;33m,\u001b[0m\u001b[1;36m30\u001b[0m\u001b[1;33m)\u001b[0m\u001b[1;33m:\u001b[0m\u001b[1;33m\u001b[0m\u001b[1;33m\u001b[0m\u001b[0m\n\u001b[1;32m---> 14\u001b[1;33m         \u001b[1;32mfor\u001b[0m \u001b[0mcalendario\u001b[0m \u001b[1;32min\u001b[0m \u001b[0mmultiset_partitions\u001b[0m\u001b[1;33m(\u001b[0m\u001b[0mmultiset\u001b[0m\u001b[1;33m,\u001b[0m\u001b[0mi\u001b[0m\u001b[1;33m)\u001b[0m\u001b[1;33m:\u001b[0m\u001b[1;33m\u001b[0m\u001b[1;33m\u001b[0m\u001b[0m\n\u001b[0m\u001b[0;32m     15\u001b[0m             \u001b[1;32mif\u001b[0m \u001b[0mall\u001b[0m\u001b[1;33m(\u001b[0m\u001b[0mlist\u001b[0m\u001b[1;33m(\u001b[0m\u001b[0mmap\u001b[0m\u001b[1;33m(\u001b[0m\u001b[1;32mlambda\u001b[0m \u001b[0mx\u001b[0m\u001b[1;33m:\u001b[0m \u001b[0mlen\u001b[0m\u001b[1;33m(\u001b[0m\u001b[0mx\u001b[0m\u001b[1;33m)\u001b[0m\u001b[1;33m<=\u001b[0m\u001b[0mmax_dia\u001b[0m\u001b[1;33m,\u001b[0m\u001b[0mcalendario\u001b[0m\u001b[1;33m)\u001b[0m\u001b[1;33m)\u001b[0m\u001b[1;33m)\u001b[0m\u001b[1;33m:\u001b[0m \u001b[1;31m# todos los dias menos de 6 escenas\u001b[0m\u001b[1;33m\u001b[0m\u001b[1;33m\u001b[0m\u001b[0m\n\u001b[0;32m     16\u001b[0m                 \u001b[0mcoste_calendario\u001b[0m\u001b[1;33m=\u001b[0m\u001b[0mfuncion_coste\u001b[0m\u001b[1;33m(\u001b[0m\u001b[0mcalendario\u001b[0m\u001b[1;33m,\u001b[0m\u001b[0mescenas_sin_repeticion\u001b[0m\u001b[1;33m)\u001b[0m\u001b[1;33m\u001b[0m\u001b[1;33m\u001b[0m\u001b[0m\n",
      "\u001b[1;32m~\\Anaconda3\\lib\\site-packages\\sympy\\utilities\\iterables.py\u001b[0m in \u001b[0;36mmultiset_partitions\u001b[1;34m(multiset, m)\u001b[0m\n\u001b[0;32m   1570\u001b[0m                 \u001b[0mmpt\u001b[0m \u001b[1;33m=\u001b[0m \u001b[0mMultisetPartitionTraverser\u001b[0m\u001b[1;33m(\u001b[0m\u001b[1;33m)\u001b[0m\u001b[1;33m\u001b[0m\u001b[1;33m\u001b[0m\u001b[0m\n\u001b[0;32m   1571\u001b[0m                 \u001b[1;32mfor\u001b[0m \u001b[0mstate\u001b[0m \u001b[1;32min\u001b[0m \u001b[0mmpt\u001b[0m\u001b[1;33m.\u001b[0m\u001b[0menum_range\u001b[0m\u001b[1;33m(\u001b[0m\u001b[0mmultiplicities\u001b[0m\u001b[1;33m,\u001b[0m \u001b[0mm\u001b[0m\u001b[1;33m-\u001b[0m\u001b[1;36m1\u001b[0m\u001b[1;33m,\u001b[0m \u001b[0mm\u001b[0m\u001b[1;33m)\u001b[0m\u001b[1;33m:\u001b[0m\u001b[1;33m\u001b[0m\u001b[1;33m\u001b[0m\u001b[0m\n\u001b[1;32m-> 1572\u001b[1;33m                     \u001b[1;32myield\u001b[0m \u001b[0mlist_visitor\u001b[0m\u001b[1;33m(\u001b[0m\u001b[0mstate\u001b[0m\u001b[1;33m,\u001b[0m \u001b[0melements\u001b[0m\u001b[1;33m)\u001b[0m\u001b[1;33m\u001b[0m\u001b[1;33m\u001b[0m\u001b[0m\n\u001b[0m\u001b[0;32m   1573\u001b[0m             \u001b[1;32melse\u001b[0m\u001b[1;33m:\u001b[0m\u001b[1;33m\u001b[0m\u001b[1;33m\u001b[0m\u001b[0m\n\u001b[0;32m   1574\u001b[0m                 \u001b[1;32mfor\u001b[0m \u001b[0mstate\u001b[0m \u001b[1;32min\u001b[0m \u001b[0mmultiset_partitions_taocp\u001b[0m\u001b[1;33m(\u001b[0m\u001b[0mmultiplicities\u001b[0m\u001b[1;33m)\u001b[0m\u001b[1;33m:\u001b[0m\u001b[1;33m\u001b[0m\u001b[1;33m\u001b[0m\u001b[0m\n",
      "\u001b[1;32m~\\Anaconda3\\lib\\site-packages\\sympy\\utilities\\enumerative.py\u001b[0m in \u001b[0;36mlist_visitor\u001b[1;34m(state, components)\u001b[0m\n\u001b[0;32m    365\u001b[0m         \u001b[1;32mfor\u001b[0m \u001b[0mps\u001b[0m \u001b[1;32min\u001b[0m \u001b[0mpstack\u001b[0m\u001b[1;33m[\u001b[0m\u001b[0mf\u001b[0m\u001b[1;33m[\u001b[0m\u001b[0mi\u001b[0m\u001b[1;33m]\u001b[0m\u001b[1;33m:\u001b[0m\u001b[0mf\u001b[0m\u001b[1;33m[\u001b[0m\u001b[0mi\u001b[0m\u001b[1;33m+\u001b[0m\u001b[1;36m1\u001b[0m\u001b[1;33m]\u001b[0m\u001b[1;33m]\u001b[0m\u001b[1;33m:\u001b[0m\u001b[1;33m\u001b[0m\u001b[1;33m\u001b[0m\u001b[0m\n\u001b[0;32m    366\u001b[0m             \u001b[1;32mif\u001b[0m \u001b[0mps\u001b[0m\u001b[1;33m.\u001b[0m\u001b[0mv\u001b[0m \u001b[1;33m>\u001b[0m \u001b[1;36m0\u001b[0m\u001b[1;33m:\u001b[0m\u001b[1;33m\u001b[0m\u001b[1;33m\u001b[0m\u001b[0m\n\u001b[1;32m--> 367\u001b[1;33m                 \u001b[0mpart\u001b[0m\u001b[1;33m.\u001b[0m\u001b[0mextend\u001b[0m\u001b[1;33m(\u001b[0m\u001b[1;33m[\u001b[0m\u001b[0mcomponents\u001b[0m\u001b[1;33m[\u001b[0m\u001b[0mps\u001b[0m\u001b[1;33m.\u001b[0m\u001b[0mc\u001b[0m\u001b[1;33m]\u001b[0m\u001b[1;33m]\u001b[0m \u001b[1;33m*\u001b[0m \u001b[0mps\u001b[0m\u001b[1;33m.\u001b[0m\u001b[0mv\u001b[0m\u001b[1;33m)\u001b[0m\u001b[1;33m\u001b[0m\u001b[1;33m\u001b[0m\u001b[0m\n\u001b[0m\u001b[0;32m    368\u001b[0m         \u001b[0mpartition\u001b[0m\u001b[1;33m.\u001b[0m\u001b[0mappend\u001b[0m\u001b[1;33m(\u001b[0m\u001b[0mpart\u001b[0m\u001b[1;33m)\u001b[0m\u001b[1;33m\u001b[0m\u001b[1;33m\u001b[0m\u001b[0m\n\u001b[0;32m    369\u001b[0m \u001b[1;33m\u001b[0m\u001b[0m\n",
      "\u001b[1;31mKeyboardInterrupt\u001b[0m: "
     ]
    }
   ],
   "source": [
    "def optimizar_fuerza_bruta(escenas,max_dia):\n",
    "    coste_minimo=1e100 # siempre hay una mejor solucion a este numero.\n",
    "    mejor_calendario=0 #reparto de las escenas.\n",
    "    #Escenas unicas, \n",
    "    escenas_sin_repeticion,indices_no_repetidas,multiplicidad =np.unique(doblaje,\n",
    "                                                                         return_index=True,\n",
    "                                                                         return_counts=True,\n",
    "                                                                         axis=0)\n",
    "    #conjunto de indices.\n",
    "    multiset=[[i[0]]*i[1] for i in zip(indices_no_repetidas,multiplicidad)]\n",
    "    \n",
    "    multiset=sum(multiset,[])\n",
    "    for i in range(5,30):\n",
    "        for calendario in multiset_partitions(multiset,i):\n",
    "            if all(list(map(lambda x: len(x)<=max_dia,calendario))): # todos los dias menos de 6 escenas \n",
    "                coste_calendario=funcion_coste(calendario,escenas_sin_repeticion)\n",
    "                if coste_calendario<coste_minimo:# si mejora nuestro mejor dia, actualizamos.\n",
    "                    coste_minimo=coste_calendario\n",
    "                    mejor_calendario=calendario\n",
    "                    print('calendario \\n ', mejor_calendario,\n",
    "                          ' \\n con coste \\n',mejor_coste)\n",
    "    return mejor_calendario,coste_minimo #devuelve mejor dia y su coste\n",
    "            \n",
    "        \n",
    "#probamos para nuestro problema.        \n",
    "optimizar_fuerza_bruta(doblaje,6)"
   ]
  },
  {
   "cell_type": "markdown",
   "metadata": {
    "colab_type": "text",
    "id": "tgrnsC2nkFa8"
   },
   "source": [
    "Calcula la complejidad del algoritmo por fuerza bruta"
   ]
  },
  {
   "cell_type": "markdown",
   "metadata": {
    "colab_type": "text",
    "id": "9eUd3xwckP68"
   },
   "source": [
    "Respuesta"
   ]
  },
  {
   "cell_type": "markdown",
   "metadata": {
    "colab": {},
    "colab_type": "code",
    "id": "rvZWwL-ckRST"
   },
   "source": [
    "Empezamos con el problema sin restricciones, como hemos mencionado antes el temaño del problema sin  restricciones venia dado por los numeros de Bell, que representaban el numero de particiones de un conjunto en subconjuntos no vacios.  Para estos nuemeros existe una relación de recurrencia que viene dado por:\n",
    "\n",
    "$$BELL(n)=\\sum^{n-1}_{k=0}\\binom{n-1}{k}BELL(k)$$\n",
    "\n",
    "Podemos probar por indicción que: $BELL(n)\\leq n^n$ \n",
    "- Hiptesis: BELL(k)$\\leq k^k$ para cada k $\\leq$ n-1 \n",
    "- Se cumple en el caso trivial.\n",
    "\n",
    "Si partimos de BELL(n):\n",
    "\n",
    "$$BELL(n+1)=\\sum^{n}_{k=0}\\binom{n}{k}BELL(k)=\\sum^{n}_{k=0}\\frac{n}{n-k}\\binom{n-1}{k}BELL(k)$$\n",
    "\n",
    "$$\\leq n \\sum^{n-1}_{k=0}\\binom{n-1}{k}k^k\\leq n \\sum^{n-1}_{k=0}\\binom{n-1}{k}(n-1)^k=n n^{n-1}=n^n$$\n",
    "\n",
    "\n",
    "Por tanto para el problema sin restricciones una cota superior es la de $n^n$, Por otro lado para una cota inferior, tenemos que si tomamos la relacion de recurrencia anterior y nos quedamos solo con el termino para k=n-2, tenemos que $BELL(n)\\geq  (n-1)BELL(n-2)$, si partimos de un numero desde un n impar podemos afirmar sin perder generalidad que:\n",
    "\n",
    "$$BELL(2n+1)\\geq (2n)BELL(2(n-1))\\geq (2n)(2(n-1))BELL(2(n-2))....\\geq 2^nn!BELL(1)=2^nn!$$\n",
    "\n",
    "\n",
    "Por tanto el crecimiento asintotico en complejidad del algoritmo podemos afirmar que se encuentra entre:\n",
    "- Liminte superior: $\\Theta(n^n)$\n",
    "- Liminte inferior: $\\Omega(2^nn!)$\n",
    "\n",
    "\n",
    "Como cabe esperar cuando le añadimos las restricciones al sistema los casos validos disminuyen, pero dado que el programa por fuerza bruta  genera todas las particiones del multiconjunto esta parte tardara lo mismo con restricciones que sin ellas.\n",
    "\n",
    "Por otra parte puede demostrarse que si incluimos las ligaduras la complejidad del problema puede verse disminuida aproximadamente en un factor $n^k$ donde k indica el numero maximo de escenas por dia. Dada la complejidad factorial y exponenecial con la que trabajamos una disminucion en la complejidad del orden de $n^k$ puede ser despreciada en la mayoria de los casos.\n"
   ]
  },
  {
   "cell_type": "markdown",
   "metadata": {
    "colab_type": "text",
    "id": "txbrmLmskReM"
   },
   "source": [
    "(*)Diseña un algoritmo que mejore la complejidad del algortimo por fuerza bruta. Argumenta porque crees que mejora el algoritmo por fuerza bruta."
   ]
  },
  {
   "cell_type": "markdown",
   "metadata": {
    "colab_type": "text",
    "id": "hLrVwt5QkZPD"
   },
   "source": [
    "Respuesta"
   ]
  },
  {
   "cell_type": "markdown",
   "metadata": {
    "colab": {},
    "colab_type": "code",
    "id": "m1eyM21Vkabg"
   },
   "source": [
    "Para mejorar el algoritmo con fuerza primero dividimos el espacio de soluciones, segun las particiones, para calcular una cota superior y una cota inferior, usamos una aproximación optimista para la cota superior y un algoritmo usando el metrodo codicioso para la cota superior de cada partición, asi podemos podar estas particiones buscando solo en aquellas en las que es posible que este la solución, en nuestro caso inicialmente tenemos unas 1200 particiones para las 30 escenas nos quedamos con solo unas 300.\n",
    "\n",
    "Una vez con las partes del espacio de soluciones que pueden tener una solución optima al problema, buscamos empezando por los horarios mas prometedores, en nuestro caso evidentemente es el de la partición (6,6,6,6,6).\n",
    "\n"
   ]
  },
  {
   "cell_type": "code",
   "execution_count": 11,
   "metadata": {
    "scrolled": false
   },
   "outputs": [],
   "source": [
    "import numpy as np\n",
    "\n",
    "def cota_inferior_particion(particion,escenas):\n",
    "    #en cada dia metemos las escenas mas costosas.\n",
    "    #Y suponemos que el coste del dia es el de la escena mas cara del dia.\n",
    "    costes=np.sort(np.sum(escenas,axis=1))\n",
    "    coste_minimo_estimado=0\n",
    "    for i in particion:\n",
    "        coste_dia=costes[-1]\n",
    "        costes=np.delete(costes,np.s_[-i:])\n",
    "        coste_minimo_estimado+=coste_dia\n",
    "    return coste_minimo_estimado\n",
    "\n",
    "def primera_escena(escenas_disponibles):\n",
    "    #escogemos como primera escena la que mas actores involucre\n",
    "    actores_en_escena=np.sum(escenas_disponibles,axis=1)\n",
    "    prometedoras=np.where(actores_en_escena==actores_en_escena.max())[0]\n",
    "    return prometedoras[0]\n",
    "\n",
    "\n",
    "def siguiente_escena(escenas_posibles,actores_presentes):\n",
    "    #devuelve la mejor escena para continuar el dia.\n",
    "    #buscamos la que menos aumenta el coste\n",
    "    actores_no_presentes = np.logical_not(actores_presentes)\n",
    "    aumento_coste = np.sum(escenas_posibles[ :,actores_no_presentes],axis=1)\n",
    "    escenas_prometedoras=np.where(aumento_coste==aumento_coste.min())\n",
    "    #de entre las que menos aumentan el coste escogemos las que mas actores utilizan.\n",
    "    actores_utilizados=np.sum(escenas_posibles[escenas_prometedoras],axis=1)\n",
    "    escenas_prometedoras=escenas_prometedoras[0][np.where(actores_utilizados==actores_utilizados.max())]\n",
    "    return escenas_prometedoras[0]\n",
    "\n",
    "\n",
    "def cota_superior_particion(particion,escenas):\n",
    "    #calcula la mejor solucion usando el metodo codicioso.\n",
    "    horario_cota_superior=list()\n",
    "    escenas_disponibles=list(range(escenas.shape[0]))\n",
    "    \n",
    "    for dia in particion:\n",
    "        #empieza con la mejor escena encontrada\n",
    "        escenas_dia=list()\n",
    "        escena_elegida=escenas_disponibles[primera_escena(escenas[escenas_disponibles])]\n",
    "        escenas_dia.append(escena_elegida)\n",
    "        actores_presentes=escenas[escena_elegida]\n",
    "        escenas_disponibles.remove(escena_elegida)\n",
    "        for i in range(dia-1):\n",
    "            #va rellenando con las escenas que mejor encajan.\n",
    "            escena_elegida=escenas_disponibles[siguiente_escena(escenas[escenas_disponibles],actores_presentes)]\n",
    "            escenas_dia.append(escena_elegida)\n",
    "            actores_presentes=np.logical_or(actores_presentes,escenas[escena_elegida])\n",
    "            escenas_disponibles.remove(escena_elegida)  \n",
    "        horario_cota_superior.append(escenas_dia)\n",
    "    return horario_cota_superior,funcion_coste(horario_cota_superior,escenas)\n",
    "               \n",
    "\n",
    "def calendario_optimo(escenas,max_dia):\n",
    " \n",
    "    particiones_vivas=horarios(escenas.shape[0],max_dia)\n",
    "    cotas_inferiores=[cota_inferior_particion(i,escenas) for i in particiones_vivas]\n",
    "    cotas_superiores=[cota_superior_particion(i,escenas) for i in particiones_vivas]\n",
    "    menor_cota_superior=sorted(cotas_superiores)[0]\n",
    "    \n",
    "    supervivientes=list()\n",
    "    for i in range(len(cotas_inferiores)):\n",
    "         if cotas_inferiores[i]<menor_cota_superior:\n",
    "            supervivientes.append(particiones_vivas[i])\n",
    "    particiones_vivas=supervivientes.copy()\n",
    "    del supervivientes\n",
    "    \n",
    "    return pariciones_vivas"
   ]
  },
  {
   "cell_type": "markdown",
   "metadata": {},
   "source": [
    "La función calendario optimo nos da las unicas particiones en las cules puede estar la solución al problema mejorando al algoritmo de fuerza bruta. Solo con este procedimiento sin una busqueda exaustiva podemos ver soluciones muy buenas  como es el calendario:\n"
   ]
  },
  {
   "cell_type": "code",
   "execution_count": 12,
   "metadata": {},
   "outputs": [
    {
     "name": "stdout",
     "output_type": "stream",
     "text": [
      "calendario \n",
      "  [[0, 5, 6, 19, 21, 1], [10, 16, 18, 22, 3, 2], [11, 7, 8, 13, 17, 23], [9, 14, 28, 25, 12, 26], [24, 15, 27, 29, 4, 20]]  \n",
      " con coste \n",
      " 30\n"
     ]
    }
   ],
   "source": [
    "print('calendario \\n ', cota_superior_particion([6,6,6,6,6],doblaje)[0],' \\n con coste \\n',cota_superior_particion([6,6,6,6,6],doblaje)[1])\n"
   ]
  },
  {
   "cell_type": "markdown",
   "metadata": {
    "colab_type": "text",
    "id": "eGDB4K6uk1iN"
   },
   "source": [
    "(*)Calcula la complejidad del algoritmo "
   ]
  },
  {
   "cell_type": "markdown",
   "metadata": {
    "colab_type": "text",
    "id": "NhpTh_BPk1ms"
   },
   "source": [
    "Respuesta:\n",
    "\n",
    "\n",
    "\n",
    "Para el caso de un algoritmo de ramificación y poda es extremadamente dificil dar un calculo de la complejidad del algoritmo solo podemos afirmar que en la mayoria de los casos mejorara la complejidad del algoritmo por fuerza bruta, y en el peor de los casos podria igualar la complejidad del algoritmo por fuerza bruta."
   ]
  },
  {
   "cell_type": "markdown",
   "metadata": {
    "colab_type": "text",
    "id": "3M6QjTsSkmYe"
   },
   "source": [
    "Según el problema (y tenga sentido), diseña un juego de datos de entrada aleatorios"
   ]
  },
  {
   "cell_type": "markdown",
   "metadata": {
    "colab_type": "text",
    "id": "Jc3_OlyNkvjZ"
   },
   "source": [
    "Respuesta:\n",
    "\n",
    "Un conjunto de datos aleatorio sera cualquier matriz de ceros y unos, con numero de filas igual al numero de escenas y numero de columnas igual al numero de actores."
   ]
  },
  {
   "cell_type": "code",
   "execution_count": 13,
   "metadata": {
    "colab": {},
    "colab_type": "code",
    "id": "sJ-N2etjkyWc"
   },
   "outputs": [
    {
     "data": {
      "text/plain": [
       "array([[0, 1, 0, 1, 0, 0, 0, 1, 0, 1],\n",
       "       [1, 0, 1, 1, 1, 0, 0, 0, 1, 0],\n",
       "       [0, 0, 0, 1, 0, 0, 0, 1, 1, 1],\n",
       "       [0, 0, 0, 0, 1, 0, 1, 1, 1, 1],\n",
       "       [0, 1, 1, 0, 1, 1, 1, 0, 1, 0],\n",
       "       [1, 1, 0, 1, 0, 1, 1, 1, 1, 0],\n",
       "       [1, 1, 1, 0, 0, 1, 0, 1, 1, 0],\n",
       "       [1, 0, 1, 0, 1, 1, 1, 1, 0, 0],\n",
       "       [0, 0, 1, 0, 1, 0, 1, 1, 1, 0],\n",
       "       [1, 1, 1, 1, 0, 1, 1, 1, 0, 0],\n",
       "       [0, 1, 0, 0, 0, 0, 0, 1, 0, 0],\n",
       "       [0, 0, 1, 1, 1, 1, 0, 0, 0, 1],\n",
       "       [1, 0, 0, 0, 1, 0, 1, 1, 0, 0],\n",
       "       [0, 0, 1, 1, 0, 0, 0, 0, 1, 0],\n",
       "       [1, 1, 1, 0, 0, 0, 0, 0, 1, 0],\n",
       "       [1, 0, 0, 1, 0, 1, 1, 0, 1, 1],\n",
       "       [1, 0, 0, 0, 1, 0, 1, 1, 0, 0],\n",
       "       [1, 1, 0, 0, 1, 0, 1, 1, 1, 1],\n",
       "       [0, 0, 1, 0, 0, 0, 1, 1, 0, 1],\n",
       "       [0, 1, 1, 1, 1, 0, 0, 0, 0, 0],\n",
       "       [1, 0, 1, 0, 1, 0, 1, 0, 1, 1],\n",
       "       [1, 0, 0, 0, 0, 0, 0, 0, 0, 0],\n",
       "       [0, 1, 0, 0, 0, 1, 1, 1, 0, 1],\n",
       "       [1, 1, 0, 0, 0, 0, 0, 1, 1, 1],\n",
       "       [1, 0, 1, 1, 0, 0, 1, 1, 1, 1],\n",
       "       [1, 0, 0, 1, 1, 1, 1, 1, 0, 0],\n",
       "       [1, 0, 0, 1, 0, 1, 0, 0, 0, 1],\n",
       "       [1, 1, 0, 1, 1, 1, 1, 0, 1, 0],\n",
       "       [0, 1, 1, 1, 1, 1, 0, 0, 0, 0],\n",
       "       [1, 0, 0, 1, 1, 1, 0, 1, 1, 1]])"
      ]
     },
     "execution_count": 13,
     "metadata": {},
     "output_type": "execute_result"
    }
   ],
   "source": [
    "import numpy as np\n",
    "\n",
    "def generar_datos(escenas,actores):\n",
    "    datos=np.random.choice([0, 1], size=(escenas,actores))\n",
    "    return datos\n",
    "\n",
    "generar_datos(30,10)"
   ]
  },
  {
   "cell_type": "markdown",
   "metadata": {
    "colab_type": "text",
    "id": "_Cmj-PVylMsa"
   },
   "source": [
    "Respuesta"
   ]
  },
  {
   "cell_type": "markdown",
   "metadata": {
    "colab_type": "text",
    "id": "kAkDPUyRtYyH"
   },
   "source": [
    "Describe brevemente las lineas de como crees que es posible avanzar en el estudio del problema. Ten en cuenta incluso posibles variaciones del problema y/o variaciones al alza del tamaño\n",
    "\n",
    "\n",
    "Es evidente que se puede seguir avanzando, cada partición puede ir generandose poco a poco y expandir el espacio de soluciones de  forma progresiva aplicando otra nuevamente un proceso de ramificacion y poda dando asi una solución exacta al problema y no conformandonos con una aproximada, esto no se ha hecho aqui por falta de tiempo siendo sencilla su implementación con las rutinas ya  implementadas.\n"
   ]
  }
 ],
 "metadata": {
  "colab": {
   "collapsed_sections": [],
   "name": "Seminario - Algoritmos.ipynb",
   "provenance": [],
   "version": "0.3.2"
  },
  "kernelspec": {
   "display_name": "Python 3",
   "language": "python",
   "name": "python3"
  },
  "language_info": {
   "codemirror_mode": {
    "name": "ipython",
    "version": 3
   },
   "file_extension": ".py",
   "mimetype": "text/x-python",
   "name": "python",
   "nbconvert_exporter": "python",
   "pygments_lexer": "ipython3",
   "version": "3.7.3"
  }
 },
 "nbformat": 4,
 "nbformat_minor": 1
}
