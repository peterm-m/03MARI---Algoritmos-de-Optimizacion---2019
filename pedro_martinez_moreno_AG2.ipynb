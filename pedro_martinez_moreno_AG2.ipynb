{
  "nbformat": 4,
  "nbformat_minor": 0,
  "metadata": {
    "colab": {
      "name": "pedro_martinez_moreno_AG2.ipynb",
      "provenance": [],
      "authorship_tag": "ABX9TyM49usll0xJ9e+ft+Z316gz",
      "include_colab_link": true
    },
    "kernelspec": {
      "name": "python3",
      "display_name": "Python 3"
    }
  },
  "cells": [
    {
      "cell_type": "markdown",
      "metadata": {
        "id": "view-in-github",
        "colab_type": "text"
      },
      "source": [
        "<a href=\"https://colab.research.google.com/github/peterm-m/03MARI---Algoritmos-de-Optimizacion---2019/blob/master/pedro_martinez_moreno_AG2.ipynb\" target=\"_parent\"><img src=\"https://colab.research.google.com/assets/colab-badge.svg\" alt=\"Open In Colab\"/></a>"
      ]
    },
    {
      "cell_type": "markdown",
      "metadata": {
        "id": "p-YO1Wf7C8sL",
        "colab_type": "text"
      },
      "source": [
        "# Actividad Guiada 2\n",
        "​\n",
        "### Pedro Martinez Moreno\n",
        "​\n",
        "#### [link Google Colaboratory](https://colab.research.google.com/drive/1-1Ou6c8UzFcmDXvEcpmMdVMf6rE-PBBm)  \n",
        "\n",
        "​\n",
        "#### [link GitHub](https://github.com/peterm-m/03MARI---Algoritmos-de-Optimizacion---2019)\n",
        "​\n",
        "​"
      ]
    },
    {
      "cell_type": "markdown",
      "metadata": {
        "id": "xYntOpupEU0X",
        "colab_type": "text"
      },
      "source": [
        "\n",
        "## Viaje por el rio.\n",
        "\n",
        "#### Explicación del problema:\n",
        "Tenemos un conjunto de destinos a lo largo de un rio ir de un sitio a otro nos cuesta cierta cantidad de dinero, el problema consiste en buscar la ruta por la cual el precio sea el mejor posible.\n",
        "\n",
        "Para ello partimos de una tabla de tarifas que indican el dinero que cuesta ir de un destino a otro.\n",
        "\n",
        "#### Implementación:\n",
        "\n",
        "Siguiendo el proceso visto en clase para resolver el problema del viaje por el rio tenemos que:"
      ]
    },
    {
      "cell_type": "code",
      "metadata": {
        "id": "sIHmPG9hEYyp",
        "colab_type": "code",
        "outputId": "e04b15f6-6091-434f-e03e-3143210982e3",
        "colab": {
          "base_uri": "https://localhost:8080/",
          "height": 50
        }
      },
      "source": [
        "def precios(tarifas): # calcula y guarda los mejores precios y rutas para ir de un destino a otro.\n",
        "    n=len(tarifas[0]) #numero de destinos\n",
        "    \n",
        "    # inicializamos precios y rutas\n",
        "    #ponemos precios iniciales de tal forma que siempre se puedan mejorar\n",
        "    precios=[[9999]*n for i in [9999]*n]\n",
        "    #inicialmente rutas vacias\n",
        "    rutas = [['']*n for i in ['']*n]\n",
        "    \n",
        "    \n",
        "    for i in range (n-1):\n",
        "        #comprobamos destinos que tenemos por delante\n",
        "        for j in range(i+1,n):\n",
        "            #inicialmente tomamos la tarifa para ir de i a j directos\n",
        "            minimo = tarifas[i][j]\n",
        "            rutas[i][j]=i\n",
        "            \n",
        "            for k in range(i,j):\n",
        "                #comprobamos destinos intermedios entre i y j\n",
        "                if precios[i][k]+tarifas[k][j]<minimo: # si hay alguno mejor lo actualizamos\n",
        "                    minimo = precios[i][k]+tarifas[k][j]\n",
        "                    rutas[i][j]=k\n",
        "                precios[i][j]=minimo\n",
        "    return precios,rutas\n",
        "\n",
        "# una vez con las rutas y precios imprementamos la función\n",
        "\n",
        "def calcular_ruta(rutas,origen,destino): # de forma recursiva buscamos  la mejor forma\n",
        "                                      # de ir por los nodos intermedios\n",
        "    if origen==destino:\n",
        "      print('mejor ruta:')\n",
        "      return origen #caso base\n",
        "    else:\n",
        "        return str(calcular_ruta(rutas,origen,rutas[origen][destino]))+','+str(destino) \n",
        "\n",
        "    \n",
        "    \n",
        "tarifas =[[0,5,4,3,999,999,999],[999,0,999,1,999,4,10],[999,999,0,1,999,4,10],[999,999,999,0,5,6,9],[999,999,999,999,0,999,4],\n",
        "         [999,999,999,999,999,999,0]]\n",
        "\n",
        "\n",
        "precios,rutas=precios(tarifas)\n",
        "\n",
        "calcular_ruta(rutas,0,6)\n",
        "\n",
        "\n"
      ],
      "execution_count": 0,
      "outputs": [
        {
          "output_type": "stream",
          "text": [
            "mejor ruta:\n"
          ],
          "name": "stdout"
        },
        {
          "output_type": "execute_result",
          "data": {
            "text/plain": [
              "'0,2,5,6'"
            ]
          },
          "metadata": {
            "tags": []
          },
          "execution_count": 23
        }
      ]
    },
    {
      "cell_type": "markdown",
      "metadata": {
        "id": "dmK62quLTjqq",
        "colab_type": "text"
      },
      "source": [
        "\n",
        "\n"
      ]
    },
    {
      "cell_type": "markdown",
      "metadata": {
        "id": "nXPGoShhU_Hq",
        "colab_type": "text"
      },
      "source": [
        "## Asignación de tareas.\n",
        "\n",
        "### Explicación del problema.\n",
        "\n",
        "\n",
        "\n",
        "Tenemos que asignar n tareas a n agentes de forma que se minimize el coste de dinero.\n",
        "\n",
        "Para ello partimos de una tabla donde se indica lo que cuesta asignarle la tarea x al agente y.\n",
        "\n",
        "### Implementación.\n",
        "\n",
        "Siguiendo el proceso visto en clase para resolver el problema de asignación de tareas:\n",
        "\n"
      ]
    },
    {
      "cell_type": "code",
      "metadata": {
        "id": "65u5YCGZX9pP",
        "colab_type": "code",
        "colab": {}
      },
      "source": [
        "              #tareas\n",
        "sueldos   =[[11,12,18,40],\n",
        "            [14,15,13,22],  #agentes\n",
        "            [11,17,19,23],\n",
        "            [17,14,20,28]]"
      ],
      "execution_count": 0,
      "outputs": []
    },
    {
      "cell_type": "markdown",
      "metadata": {
        "id": "5DZ9tB4lZGxJ",
        "colab_type": "text"
      },
      "source": [
        " - Modelizamos el espacio de estados: Un estado consta de una tupla donde el indice indica el trabajador del que estamos hablando y el valor la tarea asignada. Ejemplo: (1,0,3,2) seria la asignación del agente 0 a la tarea 1, agente 2 tarea 0 ...\n",
        "\n",
        "Modelizando de esta forma el espacio de estados, la función objetivo a optimizar es:\n",
        "\n"
      ]
    },
    {
      "cell_type": "code",
      "metadata": {
        "id": "ZpGuB1E-aKim",
        "colab_type": "code",
        "outputId": "96b2b652-8a59-4245-de81-9696e78f9fb6",
        "colab": {
          "base_uri": "https://localhost:8080/",
          "height": 34
        }
      },
      "source": [
        "def gasto_sueldos(estado,sueldos):\n",
        "  ganancia=0\n",
        "  for agente in range(len(estado)): # suma el gasto en suesdos asignado la tarea \n",
        "                                    #indicada en el estado al agente.\n",
        "    ganancia +=sueldos[estado[agente]][agente]\n",
        "  return ganancia\n",
        "\n",
        "gasto_sueldos((0,1,2,3),sueldos)\n",
        "gasto_sueldos((0,1),sueldos)"
      ],
      "execution_count": 0,
      "outputs": [
        {
          "output_type": "execute_result",
          "data": {
            "text/plain": [
              "26"
            ]
          },
          "metadata": {
            "tags": []
          },
          "execution_count": 77
        }
      ]
    },
    {
      "cell_type": "markdown",
      "metadata": {
        "id": "UmVrheVTb2hf",
        "colab_type": "text"
      },
      "source": [
        "Una vez con el espacio de estados y la función objetivo pasamos a optimizar esta.\n",
        "\n",
        "\n",
        "#### Fuerza bruta.\n",
        "\n",
        "Para buscar la solución por fuerza bruta, simplemente comprobamos todas las permutaciones de la tupla\n",
        "$(0,1,2,3...n-1)$. Esto ya nos dice que el número de estados en el que se va a buscar tiene $n!$ estados y que el algoritmo será muy poco eficiente."
      ]
    },
    {
      "cell_type": "code",
      "metadata": {
        "id": "SmJtRk6HcoyA",
        "colab_type": "code",
        "outputId": "fd3dc2b4-515c-4115-a1f9-848388e98d23",
        "colab": {
          "base_uri": "https://localhost:8080/",
          "height": 34
        }
      },
      "source": [
        "from itertools import permutations\n",
        "\n",
        "def fuerza_bruta(sueldos):\n",
        "  #inicializamos la solución de tal forma que siempre tengamos una mejor alternativa.\n",
        "  menor_gasto= 10e10\n",
        "  mejor_estado= tuple()\n",
        "\n",
        "  for estado in list(permutations(range(len(sueldos)))): #generamos una lista con todas las permutaciones\n",
        "    gasto_estado = gasto_sueldos(estado,sueldos)\n",
        "    if gasto_estado<menor_gasto:\n",
        "      menor_gasto=gasto_estado\n",
        "      mejor_estado=estado\n",
        "  \n",
        "  print('mejor solución :,', mejor_estado, ', con gasto en sueldos :' ,menor_gasto)\n",
        "\n",
        "  \n",
        "  \n",
        "fuerza_bruta(sueldos)"
      ],
      "execution_count": 0,
      "outputs": [
        {
          "output_type": "stream",
          "text": [
            "mejor solución :, (0, 3, 1, 2) , con gasto en sueldos : 61\n"
          ],
          "name": "stdout"
        }
      ]
    },
    {
      "cell_type": "markdown",
      "metadata": {
        "id": "QL7o-AjHgjVC",
        "colab_type": "text"
      },
      "source": [
        "Para observar como aumenta la complejidad al aumentar el número de agentes y tareas, ejecutamos el programa para diferentes tamaños:"
      ]
    },
    {
      "cell_type": "code",
      "metadata": {
        "id": "RnvqUnOngc9W",
        "colab_type": "code",
        "outputId": "30224d1b-842b-49a4-c62c-0805ab5ba099",
        "colab": {
          "base_uri": "https://localhost:8080/",
          "height": 399
        }
      },
      "source": [
        "from random import randint\n",
        "from time import time\n",
        "import matplotlib.pyplot as plt  \n",
        "\n",
        "tiempo=list()\n",
        "\n",
        "for i in range(3,11):\n",
        "    sueldos =[[randint(0,100) for x in range(i)] for j in range(i)]\n",
        "    t_ini=time()\n",
        "    fuerza_bruta(sueldos)\n",
        "    t_fin=time()\n",
        "    tiempo.append(t_fin-t_ini)\n",
        "\n",
        "\n",
        "plt.plot(list(range(4,4+len(tiempo))),tiempo)\n",
        "plt.show()\n",
        "\n",
        "# restablecemos los sueldos del enunciado\n",
        "\n",
        "              #tareas\n",
        "sueldos   =[[11,12,18,40],\n",
        "            [14,15,13,22],  #agentes\n",
        "            [11,17,19,23],\n",
        "            [17,14,20,28]]"
      ],
      "execution_count": 0,
      "outputs": [
        {
          "output_type": "stream",
          "text": [
            "mejor solución :, (1, 0, 2) , con gasto en sueldos : 79\n",
            "mejor solución :, (2, 0, 3, 1) , con gasto en sueldos : 164\n",
            "mejor solución :, (2, 3, 0, 4, 1) , con gasto en sueldos : 101\n",
            "mejor solución :, (0, 5, 3, 2, 1, 4) , con gasto en sueldos : 179\n",
            "mejor solución :, (5, 2, 6, 3, 4, 1, 0) , con gasto en sueldos : 162\n",
            "mejor solución :, (3, 0, 7, 6, 1, 4, 5, 2) , con gasto en sueldos : 142\n",
            "mejor solución :, (0, 8, 5, 1, 6, 7, 4, 3, 2) , con gasto en sueldos : 71\n",
            "mejor solución :, (3, 5, 7, 6, 1, 9, 4, 2, 8, 0) , con gasto en sueldos : 146\n"
          ],
          "name": "stdout"
        },
        {
          "output_type": "display_data",
          "data": {
            "image/png": "[encoded data removed]",
            "text/plain": [
              "<Figure size 432x288 with 1 Axes>"
            ]
          },
          "metadata": {
            "tags": []
          }
        }
      ]
    },
    {
      "cell_type": "markdown",
      "metadata": {
        "id": "eaVKvkKNiqdR",
        "colab_type": "text"
      },
      "source": [
        "Como vemos la complejidad y tamaño del problema crece demasiado rápido ya que el espacio de estado crece como $n!$, por ello con fuerza bruta, no podremos tratar en un tiempo razonable problemas de un tamaño de 13 o 14 tareas.\n",
        "\n",
        "#### Ramificación y poda.\n",
        "\n",
        "Para implementar una solución con la técnica de ramificación, seguimos los siguientes paso:\n",
        "\n",
        "- Modelizamos el espacio de estado: Esto no cambia respecto al método de fuerza bruta.\n",
        "- Ramificación: No creamos un estado en un solo paso, si no que lo creamos de forma progresiva, viendo en cada paso o nodo los nodos hijos que podemos crear. Por ejemplo para el estado intermedio $(0,)$ podemos crear los estado $(0,1),(0,2),(0,3)$:\n"
      ]
    },
    {
      "cell_type": "code",
      "metadata": {
        "id": "SvYh3doLmGJE",
        "colab_type": "code",
        "outputId": "7abbd30b-199f-4659-99ca-3d767236adc8",
        "colab": {
          "base_uri": "https://localhost:8080/",
          "height": 34
        }
      },
      "source": [
        "def crear_hijos(nodo,n):\n",
        "  hijos = list()\n",
        "\n",
        "  for i in range(n):\n",
        "    if i not in nodo:\n",
        "      hijos.append({'s':nodo+(i,)})\n",
        "  return hijos\n",
        "\n",
        "crear_hijos((0,),4)\n",
        "\n"
      ],
      "execution_count": 0,
      "outputs": [
        {
          "output_type": "execute_result",
          "data": {
            "text/plain": [
              "[{'s': (0, 1)}, {'s': (0, 2)}, {'s': (0, 3)}]"
            ]
          },
          "metadata": {
            "tags": []
          },
          "execution_count": 71
        }
      ]
    },
    {
      "cell_type": "markdown",
      "metadata": {
        "id": "bijTH2zsntkp",
        "colab_type": "text"
      },
      "source": [
        "- Poda: Para podar necesitamos saber la cota inferior y superior de las solución que serán conseguidas en una rama,\n",
        "    - Cota Inferior: Para un nodo que contenga un estado aún no definido del todo , calculamos la parte ya establecida del estado con la función objetivo (gato_sueldos), por otro lado la parte del estado aún no especificada es estimada  cogiendo la mejor tarea para cada agente.\n",
        "    - Cota superior: simplemente usaremos la mejor solución encontrada hasta el momento\n",
        "\n",
        "Con la cota inferior y superior, tenemos las herramientas para poder decidir si un nodo es capaz de contener la solución buscada, y poder descartar este si no contiene la solución.\n",
        "\n"
      ]
    },
    {
      "cell_type": "code",
      "metadata": {
        "id": "xZcKCIxlr1LQ",
        "colab_type": "code",
        "colab": {}
      },
      "source": [
        "def cota_inferior(estado,sueldos):\n",
        "  #parte establecida del estado\n",
        "  gastos = gasto_sueldos(estado,sueldos)\n",
        "  #estimacion de la parte aun no conocida del estado\n",
        "  for tarea in range(len(sueldos)):\n",
        "    if tarea not in estado:\n",
        "      gastos+=min([sueldos[tarea][agente] for agente in range(len(estado),len(sueldos))])\n",
        "  return gastos\n"
      ],
      "execution_count": 0,
      "outputs": []
    },
    {
      "cell_type": "markdown",
      "metadata": {
        "id": "oq0Tff0N6ZPv",
        "colab_type": "text"
      },
      "source": [
        "\n",
        "- Por último necesitamos una estrategia para recorrer el arbol en busca de la solución, esta consiste en buscar primero en los nodos que tienen una cota inferior mas prometedora, es decir una cota mas baja.\n",
        "\n",
        "\n",
        "Con todo lo hecho hasta ahora pasamos a implementar el programa principal:\n",
        "\n",
        "\n"
      ]
    },
    {
      "cell_type": "code",
      "metadata": {
        "id": "hMc7Bq8tA67c",
        "colab_type": "code",
        "colab": {}
      },
      "source": [
        "def ramificacion_poda(sueldos):\n",
        "\n",
        "  tareas=len(sueldos)\n",
        "  # inicializamos como una solucion cualquiera.\n",
        "  mejor_estado=tuple(i for i in range(tareas)) \n",
        "  cota_superior=gasto_sueldos(mejor_estado,sueldos)\n",
        "\n",
        "  nodos=list()\n",
        "  nodos.append({'s':(),'ci':cota_inferior((),sueldos)}) #inicialmente no hemos asignado ninguna tarea a ningun agente\n",
        "\n",
        "  iteracion=0\n",
        "\n",
        "  while (len(nodos)>0):\n",
        "    iteracion+=1\n",
        "\n",
        "    nodo_prometedor=[ min(nodos , key=lambda x:x['ci']) ][0]['s'] # primero exploramos los mas prometedores\n",
        "    hijos=[{'s':x['s'],'ci':cota_inferior(x['s'],sueldos)} for x in crear_hijos(nodo_prometedor,tareas)] #generamos hijos\n",
        "\n",
        "    nodo_final=[x for x in hijos if len(x['s'])==tareas] \n",
        "    if len(nodo_final)>0: # si encontramos alguna mejor que la mejor solución actual actualizamos\n",
        "      if nodo_final[0]['ci']<cota_superior:\n",
        "        cota_superior=nodo_final[0]['ci']\n",
        "        mejor_estado= nodo_final\n",
        "\n",
        "    hijos=[x for x in hijos if  x['ci']<cota_superior] # podamos los que tengan una cota inferior mayor a la cota superior\n",
        "\n",
        "    nodos.extend(hijos)#añadimos los hijos\n",
        "\n",
        "    nodos=[x for x in nodos if x['s']!= nodo_prometedor] #eliminamos el ramificado\n",
        "\n",
        "  #print('mejor solución :', mejor_estado[0]['s'], ', con gasto en sueldos :' ,  cota_superior)\n",
        "\n",
        "\n",
        "\n",
        "\n",
        "ramificacion_poda(sueldos)\n"
      ],
      "execution_count": 0,
      "outputs": []
    },
    {
      "cell_type": "markdown",
      "metadata": {
        "id": "QB0OIwr5HO1Y",
        "colab_type": "text"
      },
      "source": [
        "Para ver la eficiencia de esta algoritmo ejecutamos esta para varios tamaños:\n",
        "\n",
        "\n"
      ]
    },
    {
      "cell_type": "code",
      "metadata": {
        "id": "toZ9KrvNHilO",
        "colab_type": "code",
        "outputId": "4e21d4cb-2709-4909-83e4-65df762de748",
        "colab": {
          "base_uri": "https://localhost:8080/",
          "height": 265
        }
      },
      "source": [
        "tiempo=list()\n",
        "lista_tiempos=list()\n",
        "\n",
        "for i in range(3,13):\n",
        "    for t in range(5):\n",
        "        sueldos=[[randint(0,100) for x in range(i)] for j in range(i)]\n",
        "        t_ini=time()\n",
        "        ramificacion_poda(sueldos)\n",
        "        t_fin=time()\n",
        "        tiempo.append(t_fin-t_ini)\n",
        "    tiempo_pro=sum(tiempo)/5\n",
        "    lista_tiempos.append(tiempo_pro)\n",
        "    tiempo=list()\n",
        "\n",
        "\n",
        "plt.plot(list(range(3,13)),lista_tiempos)\n",
        "plt.show()"
      ],
      "execution_count": 0,
      "outputs": [
        {
          "output_type": "display_data",
          "data": {
            "image/png": "[encoded data removed]",
            "text/plain": [
              "<Figure size 432x288 with 1 Axes>"
            ]
          },
          "metadata": {
            "tags": []
          }
        }
      ]
    },
    {
      "cell_type": "markdown",
      "metadata": {
        "id": "-KJ972OiI1UF",
        "colab_type": "text"
      },
      "source": [
        "hemos ejecutado varias veces el código para cada tamaño ya que la eficiencia del algoritmo depende mucho del caso particular y de cuanto se pode el árbol.\n",
        "\n",
        "Un algoritmo de ramificación y poda puede ser tan ineficiente como el de fuerza bruta en el peor de los caso, con esta técnica como podemos ver solo conseguimos tiempos promedios muchisimo mejores que usando fuerza bruta. por tanto este problema de asignación puede  intratable con un tamaño de 15 tareas o solucionar uno con 20 tareas fácilmente.\n",
        "\n",
        "\n",
        "------------------------\n"
      ]
    },
    {
      "cell_type": "markdown",
      "metadata": {
        "id": "RgGsCer2KX-w",
        "colab_type": "text"
      },
      "source": [
        "##Descenso del gradiente.\n",
        "\n",
        "\n",
        "Implementamos lo que hemos visto en clase sobre el descenso del gradiente.\n"
      ]
    },
    {
      "cell_type": "code",
      "metadata": {
        "id": "F5pT8Gd4K3v1",
        "colab_type": "code",
        "outputId": "66ebe1b7-d647-401f-8e02-1717bb89aed1",
        "colab": {
          "base_uri": "https://localhost:8080/",
          "height": 282
        }
      },
      "source": [
        "import math \n",
        "import matplotlib.pyplot as plt\n",
        "import numpy as np\n",
        "import random\n",
        "\n",
        "\n",
        "f=lambda x:x[0]**2+x[1]**2  #funcion\n",
        "df=lambda x:[2*x[0],2*x[1]] #gradiente\n",
        "\n",
        "\n",
        "resolucion=100 \n",
        "\n",
        "rango=2.5\n",
        "\n",
        "X=np.linspace(-rango,rango,resolucion)\n",
        "Y=np.linspace(-rango,rango,resolucion)\n",
        "Z=np.zeros((resolucion,resolucion))\n",
        "for ix,x in enumerate(X):\n",
        "  for iy,y in enumerate(Y):\n",
        "    Z[ix,iy]=f([y,x])\n",
        "# lista con valores de la función\n",
        "\n",
        "\n",
        "\n",
        "#dibujamos función\n",
        "plt.contourf(X,Y,Z,resolucion)\n",
        "plt.colorbar()\n",
        "\n",
        "\n",
        "#empezamos desde un punto aleatorio\n",
        "P=[random.uniform(-2,2),random.uniform(-2,2)]\n",
        "plt.plot(P[0],P[1],'o',c='white')\n",
        "\n",
        "\n",
        "\n",
        "TA=.1 #tasa de aprendizaje \n",
        "\n",
        "#Descenso del gradiente, iteraciones\n",
        "for _ in range(500):\n",
        "  grad = df(P)\n",
        "  P[0],P[1]=P[0]-TA*grad[0],P[1]-TA*grad[1]\n",
        "  plt.plot(P[0],P[1],'o',c='red')\n",
        "\n",
        "\n",
        "\n",
        "plt.plot(P[0],P[1],'o',c='green') \n",
        "plt.show()\n",
        "print('solucion:', P, f(P))"
      ],
      "execution_count": 0,
      "outputs": [
        {
          "output_type": "display_data",
          "data": {
            "image/png": "[encoded data removed]",
            "text/plain": [
              "<Figure size 432x288 with 2 Axes>"
            ]
          },
          "metadata": {
            "tags": []
          }
        },
        {
          "output_type": "stream",
          "text": [
            "solucion: [-2.5969069632598112e-49, 1.792304937185918e-49] 9.956282763688312e-98\n"
          ],
          "name": "stdout"
        }
      ]
    },
    {
      "cell_type": "markdown",
      "metadata": {
        "id": "Jm4qEHZWWUj3",
        "colab_type": "text"
      },
      "source": [
        "Implementamos ahora una aproximación al gradiente:"
      ]
    },
    {
      "cell_type": "code",
      "metadata": {
        "id": "j1Ih4JzWPs6D",
        "colab_type": "code",
        "outputId": "a465ba85-03ea-4601-c369-4a4c365a2a8f",
        "colab": {
          "base_uri": "https://localhost:8080/",
          "height": 282
        }
      },
      "source": [
        "f= lambda x:np.sin(0.5*x[0]**2-0.25*x[1]**2+3)*np.cos(2*x[0]+1-np.exp(x[1])) # funcion y gradiente\n",
        "df= lambda x:[np.cos(0.5*x[0]**2-0.25*x[1]**2+3)*(x[0])*np.cos(2*x[0]+1-np.exp(x[1]))-np.sin(0.5*x[0]**2-0.25*x[1]**2+3)*np.sin(2*x[0]+1-np.exp(x[1]))*2,\n",
        "              np.cos(0.5*x[0]**2-0.25*x[1]**2+3)*(-x[1]/2)*np.cos(2*x[0]+1-np.exp(x[1]))+np.sin(0.5*x[0]**2-0.25*x[1]**2+3)*np.sin(2*x[0]+1-np.exp(x[1])*2)*np.exp(x[1])]\n",
        "\n",
        "def diferencial(P): # calcula aproximadamente el gradiente segun la definición\n",
        "  h=0.01\n",
        "  T=np.copy(P)\n",
        "  grad=np.zeros(2)\n",
        "  for it,th in enumerate(P):\n",
        "    T[it]=T[it]+h \n",
        "    grad[it]=(f(T)-f(P))/(h)\n",
        "  return grad\n",
        "\n",
        "\n",
        "\n",
        "\n",
        "\n",
        "\n",
        "resolucion=100 \n",
        "\n",
        "rango=2.5\n",
        " # lista con valores de la grafica\n",
        "X=np.linspace(-rango,rango,resolucion)\n",
        "Y=np.linspace(-rango,rango,resolucion)\n",
        "Z=np.zeros((resolucion,resolucion))\n",
        "for ix,x in enumerate(X):\n",
        "  for iy,y in enumerate(Y):\n",
        "    Z[ix,iy]=f([y,x])\n",
        "\n",
        "\n",
        "# la dibujamos\n",
        "plt.contourf(X,Y,Z,resolucion)\n",
        "plt.colorbar()\n",
        "\n",
        "\n",
        "P=[random.uniform(-2,2),random.uniform(-2,2)]#partimos de un punto aleatorio\n",
        "plt.plot(P[0],P[1],'o',c='white')\n",
        "\n",
        "\n",
        "\n",
        "TA=.1\n",
        "P_exacto=P\n",
        "P_aprox=P\n",
        "\n",
        "# descanso del gradiente exacto y aproximado\n",
        "for _ in range(500):\n",
        "  grad_exacto = df(P_exacto)\n",
        "  grad_aprox  = diferencial(P_aprox)\n",
        "  P_exacto[0],P_exacto[1]=P_exacto[0]-TA*grad_exacto[0],P_exacto[1]-TA*grad_exacto[1]\n",
        "  P_aprox[0],P_aprox[1]=P_aprox[0]-TA*grad_aprox[0],P_aprox[1]-TA*grad_aprox[1]\n",
        "\n",
        "  plt.plot(P_exacto[0],P_exacto[1],'o',c='red')\n",
        "  plt.plot(P_aprox[0],P_aprox[1],'o',c='blue')\n",
        "\n",
        "\n",
        "\n",
        "plt.plot(P[0],P[1],'o',c='green')\n",
        "plt.show()\n",
        "print('solucion:', P, f(P))"
      ],
      "execution_count": 0,
      "outputs": [
        {
          "output_type": "display_data",
          "data": {
            "image/png": "[encoded data removed]",
            "text/plain": [
              "<Figure size 432x288 with 2 Axes>"
            ]
          },
          "metadata": {
            "tags": []
          }
        },
        {
          "output_type": "stream",
          "text": [
            "solucion: [-0.830255946736151, -0.5138707382353276] -0.04195302763912233\n"
          ],
          "name": "stdout"
        }
      ]
    },
    {
      "cell_type": "markdown",
      "metadata": {
        "id": "WgkCkBf3WahY",
        "colab_type": "text"
      },
      "source": [
        "Como se ve en la imagen la aproximación al gradiente y indistingible del gradiente exacto."
      ]
    }
  ]
}