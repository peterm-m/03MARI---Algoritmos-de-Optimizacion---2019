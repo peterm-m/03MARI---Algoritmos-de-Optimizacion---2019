{
  "nbformat": 4,
  "nbformat_minor": 0,
  "metadata": {
    "colab": {
      "name": "Pedro_Martinez_Moreno_AG3.ipynb",
      "provenance": [],
      "collapsed_sections": [],
      "authorship_tag": "ABX9TyP7P2cPFIt1I0IpQCJsCD/6",
      "include_colab_link": true
    },
    "kernelspec": {
      "name": "python3",
      "display_name": "Python 3"
    }
  },
  "cells": [
    {
      "cell_type": "markdown",
      "metadata": {
        "id": "view-in-github",
        "colab_type": "text"
      },
      "source": [
        "<a href=\"https://colab.research.google.com/github/peterm-m/03MARI---Algoritmos-de-Optimizacion---2019/blob/master/Pedro_Martinez_Moreno_AG3.ipynb\" target=\"_parent\"><img src=\"https://colab.research.google.com/assets/colab-badge.svg\" alt=\"Open In Colab\"/></a>"
      ]
    },
    {
      "cell_type": "markdown",
      "metadata": {
        "id": "pjDF8VKetckF",
        "colab_type": "text"
      },
      "source": [
        "# Actividad Guiada 3 \n",
        "\n",
        "### Pedro Martinez Moreno\n",
        "\n",
        "#### [link Google Colaboratory](https://colab.research.google.com/drive/1T_mKBZagbVx8XNs-J-rguvnZphBod7yA) \n",
        "\n",
        "#### [link GitHub](https://github.com/peterm-m/03MARI---Algoritmos-de-Optimizacion---2019)\n",
        " \n",
        "\n",
        "\n",
        "## Problema del ajente viajero \n",
        "\n",
        "### Preparaciones previas: "
      ]
    },
    {
      "cell_type": "code",
      "metadata": {
        "id": "0vpnV3Ffw6Ef",
        "colab_type": "code",
        "outputId": "e2707d1d-e722-4eba-fa0e-9ee8581cb6c1",
        "colab": {
          "base_uri": "https://localhost:8080/",
          "height": 218
        }
      },
      "source": [
        "!pip install requests         #descargamos conjunto de datos e intalamos librerias\n",
        "\n",
        "import urllib.request\n",
        "\n",
        "file='swiss42.tsp'\n",
        "\n",
        "urllib.request.urlretrieve('http://elib.zib.de/pub/mp-testdata/tsp/tsplib/tsp/swiss42.tsp',file)\n",
        "\n",
        "!pip install tsplib95\n",
        "\n"
      ],
      "execution_count": 0,
      "outputs": [
        {
          "output_type": "stream",
          "text": [
            "Requirement already satisfied: requests in /usr/local/lib/python3.6/dist-packages (2.21.0)\n",
            "Requirement already satisfied: chardet<3.1.0,>=3.0.2 in /usr/local/lib/python3.6/dist-packages (from requests) (3.0.4)\n",
            "Requirement already satisfied: urllib3<1.25,>=1.21.1 in /usr/local/lib/python3.6/dist-packages (from requests) (1.24.3)\n",
            "Requirement already satisfied: certifi>=2017.4.17 in /usr/local/lib/python3.6/dist-packages (from requests) (2019.11.28)\n",
            "Requirement already satisfied: idna<2.9,>=2.5 in /usr/local/lib/python3.6/dist-packages (from requests) (2.8)\n",
            "Collecting tsplib95\n",
            "  Downloading https://files.pythonhosted.org/packages/dc/43/039c0621085202f19d6c12b06330bf109743083ce4024137b4713da9c40b/tsplib95-0.6.1-py2.py3-none-any.whl\n",
            "Requirement already satisfied: networkx~=2.1 in /usr/local/lib/python3.6/dist-packages (from tsplib95) (2.4)\n",
            "Requirement already satisfied: Click>=6.0 in /usr/local/lib/python3.6/dist-packages (from tsplib95) (7.0)\n",
            "Requirement already satisfied: decorator>=4.3.0 in /usr/local/lib/python3.6/dist-packages (from networkx~=2.1->tsplib95) (4.4.1)\n",
            "Installing collected packages: tsplib95\n",
            "Successfully installed tsplib95-0.6.1\n"
          ],
          "name": "stdout"
        }
      ]
    },
    {
      "cell_type": "code",
      "metadata": {
        "id": "dYSnLMCgy1Qg",
        "colab_type": "code",
        "colab": {}
      },
      "source": [
        "import tsplib95\n",
        "import random\n",
        "from math import e\n",
        "#cargamos datos.\n",
        "problem=tsplib95.load_problem(file)\n",
        "\n",
        "nodos=list(problem.get_nodes())\n",
        "\n",
        "aristas=list(problem.get_edges())\n",
        "\n"
      ],
      "execution_count": 0,
      "outputs": []
    },
    {
      "cell_type": "markdown",
      "metadata": {
        "id": "3emSzBtBxRe7",
        "colab_type": "text"
      },
      "source": [
        "### Funciones necesarias para problema TSP."
      ]
    },
    {
      "cell_type": "code",
      "metadata": {
        "id": "OG0cup4rzc67",
        "colab_type": "code",
        "outputId": "22d5afd9-aa37-43d6-af6e-cdd29a78705d",
        "colab": {
          "base_uri": "https://localhost:8080/",
          "height": 67
        }
      },
      "source": [
        "#una solucion es una secuencia ordenada de nodos sin repetición\n",
        "def crear_solucion(nodos):\n",
        "  solucion=[0]\n",
        "  for i in range(len(nodos)-1):\n",
        "    solucion=solucion+[random.choice(list(set(nodos)-set({0})-set(solucion)))] # elegimos nodos de forma aleatoria sin repeticion\n",
        "  return solucion\n",
        "\n",
        "\n",
        "def distancia(a,b,problema):\n",
        "  if a==b:\n",
        "    return 10e-100 #evita divisiones por cero\n",
        "  else:\n",
        "    return problema.wfunc(a,b) # funcion distancia\n",
        "\n",
        "def distancia_total(solucion,problema):# la distancia total es la suma de todas las distancias\n",
        "  distancia_total=0\n",
        "  for i in range(len(solucion)-1):\n",
        "    distancia_total+=distancia(solucion[i],solucion[i+1],problema)\n",
        "  return distancia_total+distancia(solucion[len(solucion)-1],solucion[0],problema)\n",
        "\n",
        "#comprobamos que funcionan  todas las rutinas\n",
        "ejemplo=crear_solucion(nodos)\n",
        "print(ejemplo)\n",
        "print(distancia(1,2,problem))\n",
        "print(distancia_total(ejemplo,problem))\n"
      ],
      "execution_count": 0,
      "outputs": [
        {
          "output_type": "stream",
          "text": [
            "[0, 13, 23, 19, 33, 34, 35, 9, 2, 40, 21, 27, 32, 5, 17, 41, 20, 28, 37, 11, 38, 15, 4, 16, 29, 7, 39, 6, 26, 31, 1, 36, 3, 30, 24, 12, 14, 8, 10, 22, 25, 18]\n",
            "34\n",
            "4973\n"
          ],
          "name": "stdout"
        }
      ]
    },
    {
      "cell_type": "markdown",
      "metadata": {
        "id": "FoHsS4buxjtw",
        "colab_type": "text"
      },
      "source": [
        "###  Busqueda aleatoria."
      ]
    },
    {
      "cell_type": "code",
      "metadata": {
        "id": "zmMblhKa116y",
        "colab_type": "code",
        "outputId": "80274ac2-9791-487b-ddb4-16daa3e57432",
        "colab": {
          "base_uri": "https://localhost:8080/",
          "height": 50
        }
      },
      "source": [
        "def busqueda_aleatoria(problema , n):\n",
        "\n",
        "  nodos=list(problema.get_nodes())\n",
        "\n",
        "  mejor_solucion=list()\n",
        "  mejor_distancia=10e100\n",
        "\n",
        "  for i in range(n):\n",
        "    solucion =crear_solucion(nodos) # genera solucion aleatoria\n",
        "    distancia_solucion=distancia_total(solucion,problema)\n",
        "    if distancia_solucion<mejor_distancia: #si es mejor que la solucion actual actualizamos esta.\n",
        "      mejor_solucion=solucion\n",
        "      mejor_distancia=distancia_solucion\n",
        "  print(solucion)\n",
        "  print(mejor_distancia)\n",
        "  return mejor_solucion\n",
        "\n",
        "sol=busqueda_aleatoria(problem,1000)"
      ],
      "execution_count": 0,
      "outputs": [
        {
          "output_type": "stream",
          "text": [
            "[0, 23, 2, 25, 4, 7, 8, 39, 26, 11, 19, 41, 31, 36, 14, 16, 1, 24, 5, 28, 15, 17, 27, 13, 18, 30, 35, 20, 12, 29, 10, 33, 9, 37, 40, 3, 32, 6, 34, 21, 22, 38]\n",
            "3970\n"
          ],
          "name": "stdout"
        }
      ]
    },
    {
      "cell_type": "markdown",
      "metadata": {
        "id": "tvX4I7WUyA4A",
        "colab_type": "text"
      },
      "source": [
        "### Busqueda local."
      ]
    },
    {
      "cell_type": "code",
      "metadata": {
        "id": "DTHfkn8y352S",
        "colab_type": "code",
        "outputId": "f9c64f31-b07a-4f3b-ea0e-2bb36ea80f01",
        "colab": {
          "base_uri": "https://localhost:8080/",
          "height": 50
        }
      },
      "source": [
        "def generar_vecina(solucion):\n",
        "#Una solucion vecina es una en la cual solo dos elementos estan intercambiados.\n",
        "  mejor_solucion=list()\n",
        "  mejor_distancia=10e100\n",
        "\n",
        "  for i in range(1,len(solucion)-1):\n",
        "    for j in range(i+1,len(solucion)):\n",
        "      vecina=solucion[:i]+[solucion[j]]+solucion[i+1:j]+[solucion[i]]+solucion[j+1:] # permutacion\n",
        "      distancia_vecina=distancia_total(vecina,problem)\n",
        "      if distancia_vecina <= mejor_distancia: # si con la permutación la distancia es mejor actualizamos la solucion\n",
        "        mejor_distancia = distancia_vecina\n",
        "        mejor_solucion=vecina\n",
        "  return mejor_solucion\n",
        "\n",
        "def busqueda_local(problema,n):\n",
        "  mejor_solucion=list()\n",
        "  mejor_distancia=10e100\n",
        "\n",
        "  solucion_referencia=crear_solucion(nodos) # genera una solucion\n",
        "  for i in range(n):\n",
        "    vecina = generar_vecina(solucion_referencia)\n",
        "    distancia_vecina=distancia_total(vecina,problema) # busca entere los vecinos\n",
        "    if distancia_vecina < mejor_distancia:  # si es mejor, actualizamos la solucion\n",
        "      mejor_solucion=vecina\n",
        "      mejor_distancia=distancia_vecina\n",
        "    solucion_referencia=vecina\n",
        "\n",
        "  print(mejor_solucion)\n",
        "  print(mejor_distancia)\n",
        "\n",
        "  return mejor_solucion\n",
        "\n",
        "sol=busqueda_local(problem,100)\n",
        "\n",
        "\n",
        "\n"
      ],
      "execution_count": 0,
      "outputs": [
        {
          "output_type": "stream",
          "text": [
            "[0, 7, 19, 13, 10, 21, 24, 40, 23, 41, 8, 29, 30, 32, 1, 6, 4, 3, 27, 2, 28, 9, 39, 22, 38, 34, 33, 20, 35, 36, 31, 17, 37, 15, 16, 14, 12, 11, 25, 18, 26, 5]\n",
            "1696\n"
          ],
          "name": "stdout"
        }
      ]
    },
    {
      "cell_type": "markdown",
      "metadata": {
        "id": "eQfPCUQD6X2c",
        "colab_type": "text"
      },
      "source": [
        "### Recocido Simulado.\n",
        "\n"
      ]
    },
    {
      "cell_type": "code",
      "metadata": {
        "id": "sGQatF5Z649s",
        "colab_type": "code",
        "outputId": "9b97e675-ec51-4b3b-e5a8-875001eeae98",
        "colab": {
          "base_uri": "https://localhost:8080/",
          "height": 50
        }
      },
      "source": [
        "import math\n",
        "\n",
        "def generar_vecina_aleatoria(solucion): # generamos vecino intercambiando dos indices\n",
        "  i=random.choice(range(1,len(solucion)))\n",
        "  j=random.choice(list(set(range(1,len(solucion)))-{i}))\n",
        "  if j<i:\n",
        "    i,j=j,i\n",
        "  vecina=list(solucion[:i]+[solucion[j]]+solucion[i+1:j]+[solucion[i]]+solucion[j+1:])\n",
        "  return vecina\n",
        "\n",
        "\n",
        "def probabilidad(T,d):\n",
        "  if random.random()<=math.exp(-1*d/T) # distribución de Bolzman \n",
        "    return True                        # esta nos permitira escojer soluciones\n",
        "  else:                                # cercanas a la solucion actual\n",
        "    return False\n",
        "  \n",
        "def bajar_temperatura(T): # reduce la temperatura\n",
        "  return T*0.999\n",
        "\n",
        "def recocido_simulado(problema,T=1000):\n",
        "\n",
        "  solucion_referencia  = crear_solucion(nodos) #solucion inicial\n",
        "  distancia_referencia = distancia_total(solucion_referencia,problema) # distancia solucion inicial\n",
        "\n",
        "  mejor_solucion=list()\n",
        "  mejor_distancia=10e100\n",
        "\n",
        "  while T > 1:\n",
        "\n",
        "    vecina = generar_vecina_aleatoria(solucion_referencia)\n",
        "\n",
        "    distancia_vecina=distancia_total(vecina,problema)\n",
        "\n",
        "    if distancia_vecina < mejor_distancia:\n",
        "\n",
        "      mejor_solucion=vecina\n",
        "      mejor_distancia=distancia_vecina\n",
        "\n",
        "    p=probabilidad(T,abs(distancia_referencia-distancia_vecina))\n",
        "    if distancia_vecina < distancia_referencia or p:\n",
        "      solucion_referencia=vecina\n",
        "      distancia_referencia=distancia_vecina\n",
        "\n",
        "    T=bajar_temperatura(T)\n",
        "  print(mejor_distancia,'\\n',mejor_solucion)\n",
        "  return mejor_solucion,mejor_distancia\n",
        "\n",
        "sol,dis=recocido_simulado(problem,100000)"
      ],
      "execution_count": 0,
      "outputs": [
        {
          "output_type": "stream",
          "text": [
            "1764 \n",
            " [0, 3, 4, 8, 25, 11, 12, 18, 26, 6, 34, 33, 35, 36, 16, 15, 37, 17, 31, 20, 32, 27, 2, 1, 7, 14, 19, 13, 5, 10, 41, 23, 39, 22, 38, 24, 40, 21, 9, 29, 30, 28]\n"
          ],
          "name": "stdout"
        }
      ]
    },
    {
      "cell_type": "markdown",
      "metadata": {
        "id": "0QSC7yYY60fz",
        "colab_type": "text"
      },
      "source": [
        "## Optimizacion por enjambre: Colonia de Hormigas."
      ]
    },
    {
      "cell_type": "code",
      "metadata": {
        "id": "C-xw3hjaAu3t",
        "colab_type": "code",
        "outputId": "8fc39953-657f-4859-a887-1a24c0a825eb",
        "colab": {
          "base_uri": "https://localhost:8080/",
          "height": 34
        }
      },
      "source": [
        "def otro_nodo(problema,H,T):\n",
        "  nodos=list(problema.get_nodes())\n",
        "  return random.choice(list(set(range(1,len(nodos)))-set(H))) #eleccion totalmente aleatoria, poco eficiente.\n",
        "\n",
        "def incrementar_feromona(problema,T,H):\n",
        "  for i in range(len(H)-1): \n",
        "    T[H[i]][H[i+1]]+=1000/distancia_total(H,problema) # aumenta feromona \n",
        "  return T\n",
        "\n",
        "def evaporar_feromona(T):\n",
        "  T=[[max(T[i][j]-0.3,1) for i in range(len(nodos))] for j in range(len(nodos))] # evapora feromona\n",
        "  return T\n",
        "\n",
        "def hormigas(problema,n):\n",
        "\n",
        "  nodos=list(problema.get_nodes())\n",
        "  aristas=list(problema.get_edges())\n",
        "  T=[[1 for _ in range(len(nodos))] for _ in range(len(nodos))] #inicializamos feromona\n",
        "                                                                #todos en 1 para evitar divisiones por cero en el futuro,\n",
        "                                                                # esto se puede hacer, ya que lo queimporta es la diferencia de feromona entre caminos no\n",
        "                                                                #la cantidad total.       \n",
        "\n",
        "  hormiga=[[0] for _ in range(n)]#inicializamos recorrido hormigas\n",
        "  \n",
        "  for h in range(n):\n",
        "    for i in range(len(nodos)-1):\n",
        "      nuevo_nodo=otro_nodo(problema,hormiga[h],T) #elegimos nuevo nodo\n",
        "      hormiga[h].append(nuevo_nodo)\n",
        "      \n",
        "      #actualizamos feromona\n",
        "    T=incrementar_feromona(problema,T,hormiga[h]) \n",
        "    T=evaporar_feromona(T)\n",
        "\n",
        "  #comprobamos mejor solucion\n",
        "  mejor_solucion=list()\n",
        "  mejor_distancia=10e100\n",
        "\n",
        "  for h in range(n):\n",
        "    distancia_actual=distancia_total(hormiga[h],problema)\n",
        "    if distancia_actual<mejor_distancia:\n",
        "      mejor_solucion=hormiga[h]\n",
        "      mejor_distancia= distancia_actual\n",
        "  print(mejor_solucion,mejor_distancia)\n",
        "  return mejor_distancia,mejor_solucion\n",
        "\n",
        "sol,dist=hormigas(problem,10000)"
      ],
      "execution_count": 0,
      "outputs": [
        {
          "output_type": "stream",
          "text": [
            "[0, 19, 37, 14, 13, 4, 21, 40, 22, 15, 16, 28, 3, 35, 7, 27, 8, 10, 25, 18, 5, 23, 39, 24, 38, 9, 6, 32, 41, 2, 36, 1, 11, 30, 34, 33, 31, 29, 20, 26, 12, 17] 3680\n"
          ],
          "name": "stdout"
        }
      ]
    },
    {
      "cell_type": "markdown",
      "metadata": {
        "id": "aNdD-qFX6jQz",
        "colab_type": "text"
      },
      "source": [
        "### Colonia de Hormigas: Mejora."
      ]
    },
    {
      "cell_type": "code",
      "metadata": {
        "id": "PQrgSuzDHm_v",
        "colab_type": "code",
        "outputId": "36d638d4-fb61-40c4-fc23-662f40268f11",
        "colab": {
          "base_uri": "https://localhost:8080/",
          "height": 34
        }
      },
      "source": [
        "import numpy as np\n",
        "\n",
        "def otro_nodo_mejorado(problema,H,T,a=0,b=0):\n",
        "\n",
        "  nodos=list(problema.get_nodes())\n",
        "  nodos_admisibles=list(set(range(1,len(nodos)))-set(H)) # ciudades no visitadas\n",
        "  nodo_actual=H[-1] #ciudad actual\n",
        "\n",
        "  #funcion de probabilidad para elegir nuevo nodo en funcion de la feromona y de la distancia\n",
        "\n",
        "  denominador=sum(list(map( lambda nodo : pow(T[nodo_actual][nodo],a)*pow(distancia(nodo_actual,nodo,problema)**(-1),b), nodos_admisibles))) \n",
        "  probabilidad=list()\n",
        "  for j in nodos_admisibles:\n",
        "    probabilidad.append(pow(T[nodo_actual][j],a)*pow(distancia(nodo_actual,j,problema)**(-1),b)/denominador)\n",
        "  return np.random.choice(np.array(nodos_admisibles),p=np.array(probabilidad))\n",
        "\n",
        "\n",
        "def incrementar_feromona(problema,T,H,Q=1000):\n",
        "  for i in range(len(H)-1):\n",
        "    T[H[i]][H[i+1]]+=Q/distancia_total(H,problema) # de forma mas general pordemos tener un parametro de incremento de feromonas a\n",
        "  return T\n",
        "\n",
        "def evaporar_feromona(T,rho=0.7): #de forma mas general la feromona se evapora de forma proporcional a un factor de evaporación y la cantidad total de feromona depositada\n",
        "  T=[[max(T[i][j]*(1-rho),1) for i in range(len(nodos))] for j in range(len(nodos))]\n",
        "  return T\n",
        "\n",
        "\n",
        "\n",
        "\n",
        "def hormigas_mejorado(problema,a,b,Q,rho,n):\n",
        "\n",
        "  nodos=list(problema.get_nodes())\n",
        "\n",
        "  aristas=list(problema.get_edges())\n",
        "\n",
        "  T=[[min(1/distancia(i,j,problema),1) for i in range(len(nodos))] for j in range(len(nodos))] #inicializamos feromona para que \n",
        "                                                                                               #empiece con mayor feromona las ciudades mas cercanas\n",
        "\n",
        "  hormiga=[[0] for _ in range(n)]\n",
        "\n",
        "  for h in range(n):\n",
        "    for i in range(len(nodos)-1):\n",
        "      nuevo_nodo=otro_nodo_mejorado(problema,hormiga[h],T,a,b)\n",
        "      hormiga[h].append(nuevo_nodo)\n",
        "\n",
        "    T=incrementar_feromona(problema,T,hormiga[h],Q)\n",
        "\n",
        "    T=evaporar_feromona(T,rho) \n",
        "\n",
        "  mejor_solucion=list()\n",
        "  mejor_distancia=10e100\n",
        "\n",
        "  for h in range(n):\n",
        "    distancia_actual=distancia_total(hormiga[h],problema)\n",
        "    if distancia_actual<mejor_distancia:\n",
        "      mejor_solucion=hormiga[h]\n",
        "      mejor_distancia= distancia_actual\n",
        "  print(mejor_solucion,mejor_distancia)\n",
        "  return mejor_distancia,mejor_solucion\n",
        "\n",
        "sol,dist=hormigas_mejorado(problem,0.5,2,1000,0.3,10000)"
      ],
      "execution_count": 0,
      "outputs": [
        {
          "output_type": "stream",
          "text": [
            "[0, 3, 27, 2, 26, 5, 29, 4, 7, 1, 28, 30, 18, 13, 19, 14, 16, 15, 37, 17, 31, 35, 36, 10, 25, 11, 12, 41, 23, 9, 8, 39, 21, 40, 24, 22, 38, 34, 33, 20, 32, 6] 1846\n"
          ],
          "name": "stdout"
        }
      ]
    }
  ]
}