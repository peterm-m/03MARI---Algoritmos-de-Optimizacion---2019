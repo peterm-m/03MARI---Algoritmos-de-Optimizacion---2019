{
  "nbformat": 4,
  "nbformat_minor": 0,
  "metadata": {
    "colab": {
      "name": "Pedro_Martinez_Moreno_AG1.ipynb",
      "provenance": [],
      "include_colab_link": true
    },
    "kernelspec": {
      "name": "python3",
      "display_name": "Python 3"
    }
  },
  "cells": [
    {
      "cell_type": "markdown",
      "metadata": {
        "id": "view-in-github",
        "colab_type": "text"
      },
      "source": [
        "<a href=\"https://colab.research.google.com/github/peterm-m/03MARI---Algoritmos-de-Optimizacion---2019/blob/master/Pedro_Martinez_Moreno_AG1.ipynb\" target=\"_parent\"><img src=\"https://colab.research.google.com/assets/colab-badge.svg\" alt=\"Open In Colab\"/></a>"
      ]
    },
    {
      "cell_type": "markdown",
      "metadata": {
        "id": "hjQYy5Wxa_Ol",
        "colab_type": "text"
      },
      "source": [
        "# Actividad Guiada 1\n",
        "\n",
        "### Pedro Martinez Moreno\n",
        "\n",
        "#### [link Google Colaboratory](https://colab.research.google.com/drive/1l-XC_zxaGl4fon1rCQdy_BVfBn6i7Vih) \n",
        "\n",
        "#### [link GitHub](https://github.com/peterm-m/03MARI---Algoritmos-de-Optimizacion---2019)\n",
        "\n",
        "\n",
        "\n"
      ]
    },
    {
      "cell_type": "markdown",
      "metadata": {
        "id": "wDT4HvMQ6MiU",
        "colab_type": "text"
      },
      "source": [
        "\n",
        "## Torres de Hanoi.\n",
        "\n",
        "#### Implementación:\n",
        "\n",
        "Siguiendo el proceso visto en clase para resolver el problema de las Torres de Hanoi tenemos que:"
      ]
    },
    {
      "cell_type": "code",
      "metadata": {
        "id": "oVkGAZJFf2QJ",
        "colab_type": "code",
        "outputId": "735c25c4-59a8-4a53-ae6d-e882617f57e6",
        "colab": {
          "base_uri": "https://localhost:8080/",
          "height": 268
        }
      },
      "source": [
        "# Torres de Hanoi, hecho en clase.\n",
        "\n",
        "def hanoi_clase(n,origen,destino):\n",
        "  if n==1:\n",
        "    print('mover discos de la torre '+str(origen)+' a la torre '+ str(destino)) # caso base.\n",
        "  else: \n",
        "    hanoi_clase(n-1,origen,6-origen-destino) # mueve todos los discos que se encuentran encima al pivote\n",
        "    print('mover discos de la torre '+str(6-origen-destino)+' a la torre '+ str(destino)) # mueve el disco mas grande al destino final\n",
        "    hanoi_clase(n-1,6-origen-destino,destino) # pasa los discos menores al disco final.\n",
        "\n",
        "\n",
        "hanoi_clase(4,1,3)\n",
        "\n",
        "\n",
        "\n"
      ],
      "execution_count": 0,
      "outputs": [
        {
          "output_type": "stream",
          "text": [
            "mover discos de la torre 1 a la torre 2\n",
            "mover discos de la torre 2 a la torre 3\n",
            "mover discos de la torre 2 a la torre 3\n",
            "mover discos de la torre 3 a la torre 2\n",
            "mover discos de la torre 3 a la torre 1\n",
            "mover discos de la torre 1 a la torre 2\n",
            "mover discos de la torre 1 a la torre 2\n",
            "mover discos de la torre 2 a la torre 3\n",
            "mover discos de la torre 2 a la torre 3\n",
            "mover discos de la torre 3 a la torre 1\n",
            "mover discos de la torre 3 a la torre 1\n",
            "mover discos de la torre 1 a la torre 3\n",
            "mover discos de la torre 1 a la torre 2\n",
            "mover discos de la torre 2 a la torre 3\n",
            "mover discos de la torre 2 a la torre 3\n"
          ],
          "name": "stdout"
        }
      ]
    },
    {
      "cell_type": "markdown",
      "metadata": {
        "id": "5jdq67sbkD59",
        "colab_type": "text"
      },
      "source": [
        "Un pequeño cambio a lo hecho en clase, con el que se evita el cálculo de la siguiente torre, esto es (6-origen-destino), es definir la función con una entrada mas, es decir:\n",
        "\n",
        "hanoi(n,origen, destino , pivote)\n",
        "\n",
        "Esta función lleva los discos de la torre origen a la torre destino usando la torre extra para pivotar el resto de discos.\n",
        "\n",
        "El resultado es como sigue:\n"
      ]
    },
    {
      "cell_type": "code",
      "metadata": {
        "id": "M8IHNwd7lM4Y",
        "colab_type": "code",
        "outputId": "cda59352-36d9-4640-9d31-7b5412caa784",
        "colab": {
          "base_uri": "https://localhost:8080/",
          "height": 268
        }
      },
      "source": [
        "# Torres de Hanoi, con pequeña modificación\n",
        "\n",
        "def hanoi_modificado(n,origen,destino,pivote):\n",
        "  if n==1:\n",
        "    print('mover discos de la torre '+str(origen)+' a la torre '+ str(destino))\n",
        "  else: \n",
        "    hanoi_modificado(n-1,origen,pivote,destino)\n",
        "    print('mover discos de la torre '+str(pivote)+' a la torre '+ str(destino))\n",
        "    hanoi_modificado(n-1,pivote,destino,origen)\n",
        "\n",
        "\n",
        "hanoi(4,1,3,2)"
      ],
      "execution_count": 0,
      "outputs": [
        {
          "output_type": "stream",
          "text": [
            "mover discos de la torre 1 a la torre 2\n",
            "mover discos de la torre 2 a la torre 3\n",
            "mover discos de la torre 2 a la torre 3\n",
            "mover discos de la torre 3 a la torre 2\n",
            "mover discos de la torre 3 a la torre 1\n",
            "mover discos de la torre 1 a la torre 2\n",
            "mover discos de la torre 1 a la torre 2\n",
            "mover discos de la torre 2 a la torre 3\n",
            "mover discos de la torre 2 a la torre 3\n",
            "mover discos de la torre 3 a la torre 1\n",
            "mover discos de la torre 3 a la torre 1\n",
            "mover discos de la torre 1 a la torre 3\n",
            "mover discos de la torre 1 a la torre 2\n",
            "mover discos de la torre 2 a la torre 3\n",
            "mover discos de la torre 2 a la torre 3\n"
          ],
          "name": "stdout"
        }
      ]
    },
    {
      "cell_type": "markdown",
      "metadata": {
        "id": "EylfCJSCa-xN",
        "colab_type": "text"
      },
      "source": [
        "#### Complejidad:\n",
        "\n",
        "Al fijarnos únicamente en los cambios de discos realizados los cambios mencionados antes no se ven reflejados en el analisis de complejidad.\n",
        "\n",
        "Es fácil ver que en el caso trivial hay un único cambio de disco es decir:\n",
        "\n",
        "$$T(1)=1$$\n",
        "\n",
        "Por otro lado para el n-esimo disco tenemos que ejecutar la función hanoi para n-1 discos, mover un disco y volver a ejecutar la función hanoi para n-1 discos,teniendo que:\n",
        "\n",
        "$$\\left\\{\\begin{matrix}\n",
        "T(0)=1\n",
        "\\\\ \n",
        "T(n)=1+2\\times T(n-1)\n",
        "\\end{matrix}\\right.$$\n",
        "\n",
        "Desarrollando unos cuantos términos de la serie recuriva, vemos inmediatamente que la función $ T(n) $ es una serie geométrica:\n",
        "\n",
        "$$T(n)=\\sum_{i=0}^{n-1}2^i=\\frac{1-2^n}{1-2}=2^n-1$$\n",
        "\n",
        "Quedándosnos una complejidad $\\mathcal{O}(2^n)$"
      ]
    },
    {
      "cell_type": "markdown",
      "metadata": {
        "id": "99j0llpBt1ju",
        "colab_type": "text"
      },
      "source": [
        "\n",
        "\n",
        "---\n",
        "\n",
        "\n",
        "\n"
      ]
    },
    {
      "cell_type": "markdown",
      "metadata": {
        "id": "j4nRRFCPqzuy",
        "colab_type": "text"
      },
      "source": [
        "## Cambio de monedas\n",
        "\n",
        "Implementamos el pseudocódigo  dado en clase basado en la técnica voraz con un pequeño cambio, con el uso de la función divmod.\n",
        "Ponemos el algoritmo a prueba, poniendo en evidencia algunas lagunas del algoritmo."
      ]
    },
    {
      "cell_type": "code",
      "metadata": {
        "id": "yL99_FZ2pgSp",
        "colab_type": "code",
        "outputId": "4576ca5c-f17c-4eb9-f3ba-bde41a61ac9b",
        "colab": {
          "base_uri": "https://localhost:8080/",
          "height": 87
        }
      },
      "source": [
        "def cambio_minimo_voraz(cantidad_devolver,sistema_monetario):\n",
        "  tipos_monedas=len(sistema_monetario)\n",
        "  solucion=[0]*tipos_monedas #inicializamos solución a cero\n",
        "  \n",
        "  for i in range(tipos_monedas):\n",
        "    #Usamos la función divmod que nos devuelve el cociente y el resto de una\n",
        "    #división entera\n",
        "    solucion[i],cantidad_devolver=divmod(cantidad_devolver,sistema_monetario[i]) \n",
        "    if cantidad_devolver==0: return solucion\n",
        "  return solucion,cantidad_devolver\n",
        "print('cambio monedas euros ',cambio_minimo_voraz(301,[25,10,5,2,1]),' funciona correctamente')\n",
        "print('cambio monedas sistema ingles ',cambio_minimo_voraz(8,[30,24,12,6,4,1]), ' No da el cambio con un numero minimo de monedas')\n",
        "print('cambio monedas en euros si faltan monedas de 1 cent ',cambio_minimo_voraz(301,[25,10,5,2]),  ' El Algoritmo no es capaz de dar una solución')"
      ],
      "execution_count": 0,
      "outputs": [
        {
          "output_type": "stream",
          "text": [
            "cambio monedas euros  [12, 0, 0, 0, 1]\n",
            "cambio monedas sistema ingles  [0, 0, 0, 1, 0, 2]  No da el cambio con un numero minimo de monedas\n",
            "cambio monedas en euros si faltan monedas de 1 cent  ([12, 0, 0, 0], 1)  El Algoritmo no es capar de dar una solucion\n"
          ],
          "name": "stdout"
        }
      ]
    },
    {
      "cell_type": "code",
      "metadata": {
        "id": "k_ELDJlr3r7X",
        "colab_type": "code",
        "outputId": "4d32d90c-ad12-424f-87f7-dab992329507",
        "colab": {
          "base_uri": "https://localhost:8080/",
          "height": 52
        }
      },
      "source": [
        "\n",
        "def cambio_minimo_busqueda(cantidad_devolver,sistema_monetario):\n",
        "  tipos_monedas=len(sistema_monetario)\n",
        "\n",
        "  cambio=[0]*tipos_monedas\n",
        "\n",
        "  resultado=float('inf') #inicializamos solución de tal forma que siempre tengamos\n",
        "                         #una solución mejor.\n",
        "\n",
        "  if (cantidad_devolver==0): # caso base\n",
        "    return 0 ,[0]*tipos_monedas\n",
        "\n",
        "\n",
        "\n",
        "  for i in range(tipos_monedas):\n",
        "\n",
        "    if (sistema_monetario[i]<=cantidad_devolver):\n",
        "      #si la cantidad a devolver es menor la moneda del sistema monetario i-esima\n",
        "      #las posibles opciones son, añadir una moneda mas del tipo i o no añadirla\n",
        "      #pasando a dar otro tipo de moneda.\n",
        "      \n",
        "      nueva_cantidad = cantidad_devolver -  sistema_monetario[i]\n",
        "\n",
        "      parte,cambio_parte=cambio_minimo_busqueda(nueva_cantidad\n",
        "                                                ,sistema_monetario)\n",
        "      cambio_parte[i]+=1 \n",
        "      \n",
        "      #si añadimos una moneda tipo i ahora buscamos la solución del problema\n",
        "      #con el mismo sistema monetario y cantidad a devolver anterior menos una\n",
        "      #moneda tipo i\n",
        "      \n",
        "      if  (parte+1 < resultado):\n",
        "      #vemos que resultado es mejor y lo actualizamos\n",
        "        resultado = parte+1\n",
        "        cambio=cambio_parte\n",
        "\n",
        "      if resultado==float('inf'):\n",
        "        #hay cantidades que no pueden ser sumadas en un sistema monetario.\n",
        "        return 'Esta cantidad no puede ser devuelta en este sistema monetario'\n",
        "\n",
        "  return resultado,cambio\n",
        "\n",
        "\n",
        "\n",
        "\n",
        "\n",
        "\n",
        "print(cambio_minimo_busqueda(8,[30,24,12,6,4,1]))\n",
        "print(cambio_minimo_busqueda(3,[25,10,5,2]))\n",
        "print(cambio_minimo_busqueda())\n"
      ],
      "execution_count": 0,
      "outputs": [
        {
          "output_type": "stream",
          "text": [
            "(2, [0, 0, 0, 0, 2, 0])\n",
            "Esta cantidad no puede ser devuelta en este sistema monetario\n"
          ],
          "name": "stdout"
        }
      ]
    },
    {
      "cell_type": "markdown",
      "metadata": {
        "id": "mI-QZL0Yq17K",
        "colab_type": "text"
      },
      "source": [
        "La desventaja de esta algoritmo de busqueda es que calculamos la misma solución mucha veces, ello hace que la complejidad del algoritmo sea muy alta, haciendo inviable su uso para cantidades un poco mas grandes.\n",
        "Este hecho también nos indica que el problema  podria ser implementado usando técnicas de programación dinámica. Usamos la programación dinámica con la técnica de 'memoization':\n",
        "\n"
      ]
    },
    {
      "cell_type": "code",
      "metadata": {
        "id": "rWLZpSn1e3OI",
        "colab_type": "code",
        "outputId": "1a9eb453-0042-4c2a-bd07-f29299a6ec0e",
        "colab": {
          "base_uri": "https://localhost:8080/",
          "height": 35
        }
      },
      "source": [
        "def cambio_minimo_dinamico(cantidad_devolver,sistema_monetario):\n",
        "\n",
        "  tipos_monedas=len(sistema_monetario)\n",
        "  partes_solucion=[[0,[0]*tipos_monedas] for i in range(cantidad_devolver+1)] \n",
        "  # lista donde anotar los resultados auxiliares\n",
        "  # el caso base es la cantidad 0, al crear la tabla ya esta inicializado.\n",
        "\n",
        "  for i in range(1,cantidad_devolver+1): # inicializamos la tabla\n",
        "    partes_solucion[i][0]=float('inf')\n",
        " \n",
        "  for i in range(1,cantidad_devolver+1):\n",
        "   # llenamos la tabla elemento, la cantidad i es devuelta usando las cantidades \n",
        "   #menores\n",
        "    for k in range(len(sistema_monetario)): \n",
        "        #para el elemento i comprobamos que es mejor, añadir una moneda tipo\n",
        "        # k o usar otras monedas menores\n",
        "      if sistema_monetario[k]<=i:\n",
        "        parte=partes_solucion[i-sistema_monetario[k]][0]\n",
        "        cambio_parte=partes_solucion[i-sistema_monetario[k]][1]\n",
        "        # comprobamos si la solución óptima se encuentra añadiendo una moneda k. \n",
        "        # si es óptima se llena el elemento de la tabla.      \n",
        "        if parte+1<partes_solucion[i][0]:\n",
        "          partes_solucion[i][0]=parte+1\n",
        "          for l in range(tipos_monedas):\n",
        "            partes_solucion[i][1][l]=cambio_parte[l]\n",
        "          partes_solucion[i][1][k]+=1\n",
        "\n",
        "  return partes_solucion[cantidad_devolver]\n",
        "\n",
        "print(cambio_minimo_dinamico(11,[25,10,5,2,1]))\n"
      ],
      "execution_count": 0,
      "outputs": [
        {
          "output_type": "stream",
          "text": [
            "[2, [0, 1, 0, 0, 1]]\n"
          ],
          "name": "stdout"
        }
      ]
    },
    {
      "cell_type": "markdown",
      "metadata": {
        "id": "l2X586g26PzR",
        "colab_type": "text"
      },
      "source": [
        "## Problema de las reinas\n",
        "\n",
        "### implemanteacion\n",
        "\n",
        "Siguiendo el proceso visto en clase para resolver el problema de las reinas tenemos usando técnicas de backtracking.\n",
        "\n"
      ]
    },
    {
      "cell_type": "code",
      "metadata": {
        "id": "0W5B1OePJxW7",
        "colab_type": "code",
        "outputId": "c87aa908-10c6-4fd9-f3e1-ab97608d21e7",
        "colab": {
          "base_uri": "https://localhost:8080/",
          "height": 151
        }
      },
      "source": [
        "def solucion_prometedora(solucion,etapa):\n",
        "  #Esta subrutina comprueba si hay soluciones viables\n",
        "  for i in range(etapa+1):  \n",
        "\n",
        "    if solucion.count(solucion[i])>1:\n",
        "      #comprobamos si hay reinas en la misma fila\n",
        "      return False\n",
        "    \n",
        "    for j in range(i+1,etapa+1):\n",
        "      #comprobamos si hay reinas en las mismas diagonales.\n",
        "      if abs(i-j)==abs(solucion[i]-solucion[j]):\n",
        "        return False\n",
        "  return True\n",
        "\n",
        "def reinas_backtraking(N,solucion,etapa):\n",
        "  for i in range(1,N+1):\n",
        "    #colocamos la reina de la etapa actual en posición i\n",
        "    solucion[etapa]=i\n",
        "\n",
        "    if solucion_prometedora(solucion,etapa):\n",
        "      #si con la reina de la etapa actual en i hay soluciones factibles para\n",
        "      #la siguiente etapa exploramos estas.\n",
        "      if etapa==N-1:\n",
        "        #si conseguimos colocar n reinas tenemos una solución.\n",
        "        print(\"\\n\\n La solucion es:\")\n",
        "        print(solucion)\n",
        "      else:\n",
        "        # si aún no hemos colocado n reinas pasamos a colocar\n",
        "        #una reina mas, si podemos.\n",
        "        reinas_backtraking(N,solucion,etapa+1)\n",
        "    # una vez encontrada una solución inicializamos, volviendo al nodo raíz.\n",
        "    solucion[etapa]=0 \n",
        "reinas_backtraking(4,[0,0,0,0],0)"
      ],
      "execution_count": 0,
      "outputs": [
        {
          "output_type": "stream",
          "text": [
            "\n",
            "\n",
            " La solucion es:\n",
            "[2, 4, 1, 3]\n",
            "\n",
            "\n",
            " La solucion es:\n",
            "[3, 1, 4, 2]\n"
          ],
          "name": "stdout"
        }
      ]
    },
    {
      "cell_type": "markdown",
      "metadata": {
        "id": "s4ythWee6lcS",
        "colab_type": "text"
      },
      "source": [
        "## Puntos mas cercanos\n",
        "\n",
        "Dada una lista de puntos en $p_i=(x_1,x_2....,x_d) \\in \\mathbb{N}^d$:\n",
        "$$L=\\left \\{p_1,p_2,p_3.....,p_n  \\right \\}$$\n",
        "Implementamos soluciones para encontrar los puntos mas cercanos de un conjunto de puntos siguiendo varias técnicas de alagoritmia, empezaremos en una dimensión con la norma Euclidea e iremos aumentando la complejidad.\n",
        "\n",
        "### Fuerza bruta\n",
        "\n",
        "Para el algoritmo de fuerza bruta comparamos los puntos dos a dos."
      ]
    },
    {
      "cell_type": "code",
      "metadata": {
        "id": "3Wf_QMk-hUbw",
        "colab_type": "code",
        "outputId": "5b4fb8a2-c060-4e6c-a0c0-71c6c8828cae",
        "colab": {
          "base_uri": "https://localhost:8080/",
          "height": 52
        }
      },
      "source": [
        "# Puntos mas cercanos con fuerza bruta 1D.\n",
        "\n",
        "\n",
        "\n",
        "import random\n",
        "\n",
        "def puntos_cercanos(L):\n",
        "  n=len(L)\n",
        "  distancia_minima=float('Inf')#inicializamos la distancia mínima para que sea la peor posible\n",
        "  indices_puntos=[[0,0]]# indices peores puntos\n",
        "  for i in range(n): # dos bucles que compara los puntos dos a dos.\n",
        "    for j in range(i+1,n):\n",
        "      dis=abs(L[i]-L[j])\n",
        "      if dis<=distancia_minima:\n",
        "        if dis==distancia_minima: \n",
        "          indices_puntos+=[[i,j]]\n",
        "        else:\n",
        "          distancia_minima=dis\n",
        "          indices_puntos=[[i,j]]\n",
        "\n",
        "  return distancia_minima,indices_puntos # devuelve los puntos mas cercanos\n",
        "      \n",
        "\n",
        "lista=[random.randrange(1,100000) for x in range(100)]\n",
        "\n",
        "print(puntos_cercanos(lista))\n",
        "\n",
        "# Fuerza bruta n-dimensiones, distancia euclidea.\n",
        "\n",
        "def distancia(x,y):\n",
        "  resultado=0\n",
        "  for i in range(len(x)):\n",
        "    resultado+=(x[i]-y[i])**2\n",
        "  return resultado**(1/2)\n",
        "\n",
        "\n",
        "def puntos_cercanos_n_dim(L): # igual que el anterior solo cambia la distancia\n",
        "  n=len(L)\n",
        "  distancia_minima=float('Inf')\n",
        "  indices_puntos=[[0,0]]\n",
        "  for i in range(n):\n",
        "    for j in range(i+1,n):\n",
        "      dis=distancia(L[i],L[j])\n",
        "      if dis<=distancia_minima:\n",
        "        if dis==distancia_minima:\n",
        "          indices_puntos+=[[i,j]]\n",
        "        else:\n",
        "          distancia_minima=dis\n",
        "          indices_puntos=[[i,j]]\n",
        "  return distancia_minima,indices_puntos\n",
        "\n",
        "\n",
        "lista_2=[(random.randrange(1,100000),random.randrange(1,100000)) for x in range(1000)]\n",
        "\n",
        "print(puntos_cercanos_n_dim(lista_2))"
      ],
      "execution_count": 7,
      "outputs": [
        {
          "output_type": "stream",
          "text": [
            "(5, [[25, 87]])\n",
            "(46.17358552246078, [[89, 601]])\n"
          ],
          "name": "stdout"
        }
      ]
    },
    {
      "cell_type": "markdown",
      "metadata": {
        "id": "oVehqX-t6oyg",
        "colab_type": "text"
      },
      "source": [
        "Es fácil calcular la complejidad de este algoritmo,fijándonos en el número de comparaciones que hace para cada elemento, tenemos que: el primer elemento es  comparado n-1 veces ,el segundo es n-2,..., el (n-1)-esimo 1, el n-esimo ninguna, esto es:\n",
        "\n",
        "$$\\sum^{n}_{i=0} i=\\frac{n(n+1)}{2} \\rightarrow  \\mathcal{O}(n^2)$$\n",
        "\n",
        "### Tecnica Divide y Venceras.\n",
        "Empezaremos discutiendo el algoritmo para el caso de 1D y lo iremos complicando.\n",
        "#### Descripción del algoritmo e implementación.\n",
        "\n",
        " - **División del problema:** Dado el conjunto de puntos L en 1D,  dividimos este en dos grupos apartir de un valor central $media=m$, estos subconjuntos seran $L_I$ y $L_D$ tal que en $L_I$ estan los elementos a la izquierda de m y en $L_D$ los elementos a la dercha, estos  aproximadamente contendran $\\frac{n}{2}$ elementos cada uno.\n",
        "\n",
        "\n",
        "  - **Subrutina:** A cada uno de estos subconjuntos se les aplicará recursivamete la subrutina con la que dividimos los subconjuntos hasta  llegar a subconjuntos de 1 y 2 elementos que son el caso trivial.\n",
        "\n",
        "- **Unión de soluciones**: Cuando juntemos las soluciones encontradas en cada subconjunto, la solución del problema total puede ser una de estas tres opciones:\n",
        "  - Los dos puntos de la solución estan en $L_D$\n",
        "  - Los dos puntos de la solución estan en $L_I$\n",
        "\n",
        "  Este es el caso tribial ante el cual solo tenemos que comparar los puntos mas   cercanos de ambos lados y escogemos los puntos tal que $d= min([p_{iI},p_{jI}]  ,[p_{iD},p_{jD}])$\n",
        "  - La tercera posibilidad es que uno de los puntos se encuentre en $L_I$ y el otro en $L_D$, los únicos puntos capaces de ser solución son el par de puntos mas cerno a  m, estos serán comprobados individualmente.\n",
        "Esta forma de comprobar la frontera no es generalizable a dimensiones mayores."
      ]
    },
    {
      "cell_type": "code",
      "metadata": {
        "id": "g56GxOQfGQM2",
        "colab_type": "code",
        "outputId": "ccf180d6-b2a4-4af3-d67a-9522e0d69b11",
        "colab": {
          "base_uri": "https://localhost:8080/",
          "height": 34
        }
      },
      "source": [
        "import random\n",
        "\n",
        "def puntos_cercanos1D(L):\n",
        "  L=sorted(L) # oredenamos la lista\n",
        "  p,q,d_minima=mas_cercanos1D(L)\n",
        "  return p,q,d_minima\n",
        "\n",
        "def mas_cercanos1D(L):\n",
        "  n=len(L)\n",
        "  if n==1: # si solo hay un elemento, no tiene sentido hablar de distancia entre puntos\n",
        "    return float('inf'),L[0],float('inf')\n",
        "  elif n==2: # si hay dos elementos la solucion es evidente\n",
        "    return L[0],L[1],abs(L[0]-L[1])\n",
        "  else: # si hay mas elementos\n",
        "  # dividimos el problema en subproblemas\n",
        "    centro=n//2\n",
        "    L_i=L[:centro]\n",
        "    L_d=L[centro:]\n",
        "    #buscamos la solución a los subproblemas\n",
        "    p_i,q_i,d_i=mas_cercanos1D(L_i)\n",
        "    p_d,q_d,d_d=mas_cercanos1D(L_d)\n",
        "    # unimos las soluciones a los subproblemas\n",
        "    #eligiendo la mejor solución\n",
        "    if d_i<d_d:\n",
        "      p_min,q_min,d_min=p_i,q_i,d_i\n",
        "    else:\n",
        "        p_min,q_min,d_min=p_d,q_d,d_d\n",
        "    # comprobamos los puntos en la frontera de los subconjuntos, los unimos\n",
        "    # candidatos a solución\n",
        "    p_mid,q_mid,d_mid=L_i[-1],L_d[0],abs(L_i[-1]-L_d[0])\n",
        "    #si en la frontera hay una mejor solución, tomamos esta\n",
        "    if d_mid<d_min:\n",
        "      return  p_mid,q_mid,d_mid\n",
        "    else:\n",
        "      return  p_min,q_min,d_min\n",
        "\n",
        "    \n",
        "print(puntos_cercanos1D(lista))"
      ],
      "execution_count": 14,
      "outputs": [
        {
          "output_type": "stream",
          "text": [
            "(19465, 19470, 5)\n"
          ],
          "name": "stdout"
        }
      ]
    },
    {
      "cell_type": "markdown",
      "metadata": {
        "id": "DMFTUOWlA3YW",
        "colab_type": "text"
      },
      "source": [
        "Para dimensiones mayores a uno, se procede como sigue:\n",
        "- Introducimos los puntos ordenados según su coordenada x y según su coordenada y.\n",
        "- dividimos el conjunto de puntos en dos, según su coordenada x. dejándonos con  $L_I$ y $L_D$, conjuntos de $\\frac{n}{2}$ elementos y resolvemos en ambas partes como en el caso de 1D teniendo $d_i,d_d$.\n",
        "- elegimos la solución óptima al juntar los conjuntos de puntos $d=min(d_i,d_d)$.\n",
        "\n",
        "- Comprobamos la frontera: Para comprobar los puntos de la frontera, seleccionamos los puntos de $L_I$ y $L_D$ que estan a una distancia de la coordenada x central, menor que d, en esta region es la única donde pueden estar las posibles soluciones. para canda punto\n",
        "candidato a solución comprobamos solo los 6 mas proximos a el en la coordenada y (El por que solo 6 se explica en las referencias).\n",
        "\n",
        "La diferencia con el caso de 1D es que ahora es posible que todos o varios de  los puntos estén a una distancia igual o menor al valor medio de x, por ello para comparar la región central podiamos tener que hacer $\\frac{n^2}{4}$ comparaciones lo que igualaria al caso de fuerza bruta. Para evitar esta situación se cambia la forma de juntar las soluciones.\n"
      ]
    },
    {
      "cell_type": "code",
      "metadata": {
        "id": "SYZ5jQUDNshw",
        "colab_type": "code",
        "outputId": "b0e0b789-1c83-431c-b437-fabf60c8e81c",
        "colab": {
          "base_uri": "https://localhost:8080/",
          "height": 34
        }
      },
      "source": [
        "#divide y venceras en 2D\n",
        "\n",
        "def pares_cercanos2D(x,y):\n",
        "  L=list(zip(x,y))\n",
        "  L_x=sorted(L,key=lambda x:x[0])# orden en x\n",
        "  L_y=sorted(L,key=lambda x:x[1])# orden en y\n",
        "  p1,p2,d_minima=mas_cercanos2D(L_x,L_y)\n",
        "  return p1,p2,d_minima\n",
        "\n",
        "\n",
        "def mas_cercanos2D(L_x,L_y):\n",
        "  n=len(L_x)\n",
        "# caso base\n",
        "  if n<=3:  # si el conjunto tiene  3 o menos elementos lo resolvemos por fuerza bruta\n",
        "    return caso_base_puntos_cercanos(L_x)\n",
        "#división del problema\n",
        "  centro=n//2  # al estar la lista ordenada solo la partimos por la mitad \n",
        "  izquierda_x=L_x[:centro] \n",
        "  derecah_x=L_x[centro:]\n",
        "\n",
        "  punto_central=L_x[centro][0] # linea central \n",
        "\n",
        "  izquierda_y=[]\n",
        "  derecha_y=[]\n",
        "\n",
        "  for p in L_y: # dividimos la lista L_y al no estar ordenada en x la separamos\n",
        "                # elemento a elemento.\n",
        "    if p[0]<=punto_central:\n",
        "      izquierda_y.append(p)\n",
        "    else:\n",
        "      derecha_y.append(p)\n",
        "   #resolvemos subproblemas   \n",
        "  (pi,qi,d_i)=mas_cercanos2D(izquierda_x,izquierda_y)\n",
        "  (pd,qd,d_d)=mas_cercanos2D(derecah_x,derecha_y)\n",
        "\n",
        "#elegimos mejor solución y nos quedamos con ella\n",
        "  if d_i<=d_d:\n",
        "    d_min=d_i\n",
        "    punto=(pi,qi)\n",
        "  else:\n",
        "    d_min=d_d\n",
        "    punto=(pd,qd)\n",
        "# comprobamos frontera\n",
        "  (p_frontera,q_frontera,d_frontera) = comprobar_frontera(L_x,L_y,d_min,punto)\n",
        "  \n",
        "  if d_min <= d_frontera:\n",
        "    # si en la frontera encontramos una mejor solución actualizamos esta.\n",
        "    return punto[0],punto[1],d_min\n",
        "  else:\n",
        "    return p_frontera,q_frontera,d_frontera\n",
        "\n",
        "\n",
        "def caso_base_puntos_cercanos(L):#el caso base es una copia de la fuerza bruta\n",
        "                                 #para 2D, adaptada para que de la salida en el \n",
        "                                 #formato correcto\n",
        "  distancia = lambda x,y:  ((x[0]-y[0])**2+(x[1]-y[1])**2)**(1/2)\n",
        "  d_min=distancia(L[0],L[1]) \n",
        "  p1,q1=L[0],L[1]\n",
        "  n=len(L)\n",
        "  if n==2:\n",
        "    return p1,q1,d_min\n",
        "  for i in range(n-1):\n",
        "    for j in range(i+1,n):\n",
        "      if i!=0 and j!=1:\n",
        "        d=distancia(L[i],L[j])\n",
        "        if d<d_min:\n",
        "          d_min=d\n",
        "          p1,q1=L[i],L[j]\n",
        "  return p1,q1,d_min\n",
        "\n",
        "\n",
        "def comprobar_frontera(L_x,L_y,d_min,punto):\n",
        "  distancia = lambda x,y: ((x[0]-y[0])**2+(x[1]-y[1])**2)**(1/2)\n",
        "  n=len(L_x)\n",
        "  centro_x=L_x[n//2][0]\n",
        "\n",
        "  candidatos=list()\n",
        "  for x in L_y:\n",
        "    #posibles soluciones en la frontera\n",
        "    if centro_x-d_min<=x[0] and x[0]<=centro_x+d_min:\n",
        "      candidatos.append(x)\n",
        "  \n",
        "  n_candidatos=len(candidatos)\n",
        "  mejor_d=d_min\n",
        "  for i in range(n_candidatos-1):\n",
        "    #solo 6 o menos candidatos  para cada punto pueden llegar a ser finalmente una solución\n",
        "    #comprobamos estos\n",
        "    for j in range(i+1,min(i+7,n_candidatos)):\n",
        "      p,q=candidatos[i],candidatos[j]\n",
        "      d=distancia(p,q)\n",
        "      if d<mejor_d:\n",
        "        punto = p,q \n",
        "        mejor_d=d\n",
        "  return punto[0],punto[1],mejor_d\n",
        "        \n",
        "\n",
        "\n",
        "x= [i[0] for i in lista_2 ]\n",
        "y= [i[1] for i in lista_2 ]\n",
        "\n",
        "print(pares_cercanos2D(x,y))"
      ],
      "execution_count": 8,
      "outputs": [
        {
          "output_type": "stream",
          "text": [
            "((5188, 15935), (5232, 15949), 46.17358552246078)\n"
          ],
          "name": "stdout"
        }
      ]
    },
    {
      "cell_type": "markdown",
      "metadata": {
        "id": "hAcP_Md7ySLI",
        "colab_type": "text"
      },
      "source": [
        "Para calcular la complejidad de este algoritmo simplemente tenemos que ver que para el caso de listas de longitud 1 o 2 la complejidad es la unidad $T(1)=T(2)=1$, y para listas de longitud mayor la complejidad es $T(n)=2T(n/2)$ a esta hay que añadirle el tiempo de juntar los subconjuntos, tarea que es sencillo ver que es $\\mathcal{O}(n)$ juntando todo esto tenemos el sistema de recurrencias siguiente:\n",
        "\n",
        "$$T(n)=\\left\\{\\begin{matrix}\n",
        "T(n)=2T(n/2)+\\mathcal{O}(n) \\\\ \n",
        "T(1)=1\n",
        "\\end{matrix}\\right.$$\n",
        "\n",
        "Cuya solución ya es mas que conocida $T(n)=\\mathcal{O}(n\\cdot log(n))$.\n",
        "\n",
        "#### Otras generalizaciones.\n",
        "\n",
        "- Para dimenison d se puede implementar un algoritmo similar con complejidad $T(n,d)=\\mathcal{O}(n(log(n))^{d-1})$\n",
        "\n",
        "- Este algorimo es independiente de la métrica que tomemos, por tanto podemos cambia la métrica, algunas propuestas son las métricas  Norma-$L_m$ o  Norma-$L_{\\infty }$.\n",
        "\n",
        "Implementamos estas:\n",
        "\n"
      ]
    },
    {
      "cell_type": "code",
      "metadata": {
        "id": "YgzJr7ucHTMp",
        "colab_type": "code",
        "colab": {}
      },
      "source": [
        "def distancia(x,y,m=2):\n",
        "  if m==float('inf'):\n",
        "    return max(map(zip(x,y),lambda x:abs(x[0]-x[1])))\n",
        "  else:\n",
        "    return sum(map(zip(x,y),lambda x:(x[0]-x[1])**m))**(1/m)"
      ],
      "execution_count": 0,
      "outputs": []
    },
    {
      "cell_type": "markdown",
      "metadata": {
        "id": "-oDJFsarNNWo",
        "colab_type": "text"
      },
      "source": [
        "#### Referencias:\n",
        "\n",
        "\n",
        "[Referencia 1](https://colab.research.google.com/drive/1l-XC_zxaGl4fon1rCQdy_BVfBn6i7Vih) \n",
        "\n",
        "[Referencia 2 (Cap 33.4)](https://books.google.es/books?id=NLngYyWFl_YC&pg=PA15&dq=introduction+to+algorithms&psp=1&sig=jX-xfEDWJU3PprUwH8Qfxidli6M&redir_esc=y#v=onepage&q=introduction%20to%20algorithms&f=false) \n"
      ]
    },
    {
      "cell_type": "markdown",
      "metadata": {
        "id": "Wa18jD5m6ygZ",
        "colab_type": "text"
      },
      "source": [
        "## Algoritmos de ordenación.\n",
        "\n",
        "En este apartado implementaremos varios algoritmos de ordenación y los discutiremos para ello nos fijaremos en:\n",
        "\n",
        "- Ordenación basada en comparación\n",
        "\n",
        "  Esta familia de algoritmos buscan la permutación de elementos de entrada correcta en base a la comparación de los elementos que componen la lista. \n",
        "\n",
        "  Se pude demostrar el siguiente teorema:\n",
        "\n",
        "  **Teorema:**  cualquier algoritmo de ordenación basado en la comparación de elementos requiere $\\Omega(n\\lg(n))$ comparaciones en el peor caso.(siendo $\\Omega$ el límite asintótico inferior)\n",
        "\n",
        "- Uso de memoria\n",
        " \n",
        " Algunos algoritmos son conocidos como \"in-place\" estos son los que ordenan la lista sin necesitad de memoria adicional, la cantidad de memoria necesaria para estos algoritmos tiene un comportamiento asintótico $\\mathcal{O}(1)$, otros por el contrario necesitan memoria adicional a la de la memoria usada por el elemento.\n",
        "\n",
        "- Estabilidad\n",
        "\n",
        "  la estabilidad se refiere a si el algoritmo mantiene un cierto 'preorden' existente la lista.\n",
        "\n",
        "#### **Insertion sort** \n",
        "\n",
        "- Propiedades:\n",
        "\n",
        " El Algoritmo de Insertion sort es un algoritmo que ofrece buenos resultado trabajando con listas pequeñas  basado en  comparaciones,  estable, adaptativo e In-place.\n",
        "\n",
        "- Descripción:\n",
        "\n",
        " Partimos de una lista de 1 elemento al solo tener un alemento ya esta ordenada. Sea una lista de n elementos ordenados tomamos un elemento n+1 y lo comparamos con todos los elementos deteniéndonos cuando se encuentre un elemento menor o cuando ya no queden elementos, una vez en este punto el elemento es insertado en esa posición.\n",
        "\n",
        " Hacemos el procedimiento sin la necesidad de crear nuevas listas, solo intercambiando los elementos de la lista de entrada.\n",
        "\n",
        "\n",
        "\n",
        "- Implentación:\n"
      ]
    },
    {
      "cell_type": "code",
      "metadata": {
        "id": "v2fAB-3_-PXm",
        "colab_type": "code",
        "colab": {}
      },
      "source": [
        "def insertion_sort(A):\n",
        "    for j in range(1,len(A)): # recorremos la lista\n",
        "        elemento=A[j] # en cada iteración la lista ordenada es A[0,...j-1]\n",
        "                      # comparamos j con todos los elemtos de la lista ordenada\n",
        "        i=j-1 # indice de la lista ordenada\n",
        "        \n",
        "        while i>0 and A[i]>elemento: # mientras que el de la izquierda sea menor va comparando\n",
        "            A[i+1]=A[i]\n",
        "            i=i-1\n",
        "        A[i+1]=elemento # una vez que el de la izquierda no sea menor deja el numero en esa posición.\n"
      ],
      "execution_count": 0,
      "outputs": []
    },
    {
      "cell_type": "markdown",
      "metadata": {
        "id": "7U5qKyit-VdV",
        "colab_type": "text"
      },
      "source": [
        "- Complejidad:\n",
        "\n",
        " * mejor caso: en el mejor caso la lista ya esta ordenada y cada elemento solo hay que compararlo con el último de la lista ya ordenada anteriormente, es decir: $\\mathcal{O}(n)$\n",
        "\n",
        " * peor caso: en el peor caso la lista está totalmente invertida, el primer elemento se compara 0 veces, el segundo 1 , en n-esimo n-1 veces,  es decir, $\\sum_{i=0}^{n} i=\\frac{n^2}{2}$, con complejidad $\\mathcal{O}(n^2)$  \n",
        " * caso promedio: puede demostrarse que el caso promedio es $\\mathcal{O}(n^2)$\n",
        "\n",
        "\n",
        "\n",
        "#### **Selection Sort**\n",
        "- Propiedades:\n",
        "\n",
        "Selection Sort es un algoritmo  basado en comparación,In-place y estable si se le dota de una cierta cantidad de memoria.\n",
        "- Descripción:\n",
        "\n",
        "Buscamos el menor elemento de la lista, lo ponemos el primero, buscamos en los n-1 restantes el siguiente menor lo ponemos el segundo y proseguimos hasta terminar la lista.\n",
        "\n",
        "- Implementación:\n",
        "\n"
      ]
    },
    {
      "cell_type": "code",
      "metadata": {
        "id": "x93M2k9MHboc",
        "colab_type": "code",
        "colab": {}
      },
      "source": [
        "def selection_sort(A):\n",
        "    for i in range(len(A)):\n",
        "        indice_minimo=i\n",
        "        for j in range(i+1,len(A)):\n",
        "            if A[i]>=A[j]:\n",
        "                indice_minimo=j\n",
        "        A[i],A[indice_minimo]=A[indice_minimo],A[i]"
      ],
      "execution_count": 0,
      "outputs": []
    },
    {
      "cell_type": "markdown",
      "metadata": {
        "id": "Bk5xDgLDHhio",
        "colab_type": "text"
      },
      "source": [
        "- Complejidad:\n",
        "\n",
        "Es sencillo ver que la complejidad del mejor caso, peor caso y caso promedio es $\\mathcal{O}(n^2)$.\n",
        "\n",
        "\n",
        "\n",
        "#### **Merge Sort**\n",
        "\n",
        "- Propiedades:\n",
        "\n",
        "Es un algoritmo basado en comparaciones, capaz de ordenar gendes listas de forma eficiente, estable,  el cual necesita una cantdad de memoria $\\mathcal{O}(n)$ (hay algunas variantes para hacer este algoritmo de forma In-place). Una de las ventajas de este algoritmo ademas de la eficiencia es que es altamente paralelizable.\n",
        "\n",
        "- Descripción:\n",
        "\n",
        "En un algoritmo de ordenación basado en la técnica de divide y venceras.\n",
        "\n",
        "*División del problema:* Dividimos la lista desordenada en n sublistas cada una conteniendo un elemento (Por tanto ya ordenadas). *únion de soluciones:* juntamos las listas comparando los mayores elementos de ambas y tomando el mayor, repetimos hasta terminar las listas.\n",
        "\n",
        "- Implementación:\n",
        "\n"
      ]
    },
    {
      "cell_type": "code",
      "metadata": {
        "id": "x40yPhlNACgx",
        "colab_type": "code",
        "colab": {}
      },
      "source": [
        "def merge(A,ini,mid,end):\n",
        "  # Subrutina para juntar las listas\n",
        "    n_1=mid-ini+1  #longitud sublista 1\n",
        "    n_2=end-mid    #longitud sublista 2\n",
        "    left=[0]*n_1   #creamos las sublistas\n",
        "    right=[0]*n_2\n",
        "\n",
        "    for j in range(n_1):  #llenamos las sublistas\n",
        "        left[j]=A[ini+j]\n",
        "        \n",
        "    for i in range(n_2):\n",
        "        right[i]=A[mid+1+i]\n",
        "        \n",
        "    i,j,k=0,0,ini\n",
        "    \n",
        "    while i<n_1 and j<n_2:  # si quedan elementos en ambas listas\n",
        "        \n",
        "        if left[i]<=right[j]: #entre los dos valores de ambas listas elegimos \n",
        "            A[k]=left[i]      #elegimos el menor y lo añadimos a la lista ordenada\n",
        "            i+=1\n",
        "        else:\n",
        "            A[k]=right[j]\n",
        "            j+=1\n",
        "        k+=1\n",
        "    while i<n_1: # cuando se acaba una de las listas añadimas la otra al completo\n",
        "        A[k]=left[i]\n",
        "        i+=1\n",
        "        k+=1\n",
        "    while j<n_2:\n",
        "        A[k]=right[j]\n",
        "        j+=1\n",
        "        k+=1\n",
        "\n",
        "        \n",
        "def merge_sort(A,ini,end): \n",
        "   \n",
        "    if ini<end:\n",
        "        mid=int((ini+end-1)/2)\n",
        "        merge_sort(A,ini,mid)    #Aplicamos la subrutina de forma recursiva dividiendo la lista\n",
        "        merge_sort(A,mid+1,end)\n",
        "        merge(A,ini,mid,end)     #juntamos las listas\n"
      ],
      "execution_count": 0,
      "outputs": []
    },
    {
      "cell_type": "markdown",
      "metadata": {
        "id": "hqKJA2rxUW0o",
        "colab_type": "text"
      },
      "source": [
        "- Complejidad:\n",
        "\n",
        "La complejidad del peor caso, mejor caso y caso promedio son la misma, y es como sigue:\n",
        "Como se ha dicho las lista de un elemento ya estan ordenadas, por tanto la complejidad que toma su ordenacion es la unidad $ T(1)=1$, por otro lado para una lista de longitud n la complejidad la de ordenar dos listas de longitud $\\frac{n}{2}$ es decir sera $2\\cdot T(n/2)$ mas la complejidad que aporta el juntar las listas, esto es $\\mathcal{O}(n)$  se tiene que: $$T(n)=\\left\\{\\begin{matrix}\n",
        "T(1)=1\n",
        "\\\\ \n",
        " T(n)=2T(n/2)+\\mathcal{O}(n)\n",
        "\\end{matrix}\\right. \\rightarrow  T(n)=\\mathcal{O}(n\\cdot log(n))$$"
      ]
    },
    {
      "cell_type": "markdown",
      "metadata": {
        "id": "ZWlQAervW6Z2",
        "colab_type": "text"
      },
      "source": [
        "#### **Heap Sort**\n",
        "\n",
        "\n",
        "- Propiedades:\n",
        "\n",
        "Se trata de un algoritmo basado en la comparación, no recursivo, inestable,in-place \n",
        "\n",
        "\n",
        "-Descripción:\n",
        "\n",
        "El Algoritmo de Heap sort esta basado en una estructura de datos llamada 'Heap' o 'montículo' esta estructura es una estructura de tipo arbol semicompleto, que satisface  la condición conocida como *propiedad montículo*: en un montículo máximo, para cualquier nodo C, si P es un nodo padre de C entonces el valor del nodo P es menor o igual que la clave de C, el nodo en la parte superior del Heap se llama nodo raíz.\n",
        "\n",
        "Al satizfacer la condición de montículo máximo, sabemos que el nodo raíz es el mayor elemento de la lista, por ello hacemos tres subrutinas para el algoritmo heap sort , la primera  llamada 'max_heapify' que si se le da un montículo sin la propiedad de montículo máximo, ordena los nodos para que la tenga, la siguiente 'build_max_heap', apartir de una lista crea el montículo máximo añadiendo elementos al montículo progresivamente y por último, usamos estas dos subrutinas para implementar el algoritmos heap_sort,en este una vez creado el montículo máximo de la lista, coge el nodo raíz que es el mayor elemento, y reajusta el montículo para que siga siendo máximo.\n",
        "\n"
      ]
    },
    {
      "cell_type": "code",
      "metadata": {
        "id": "dcOqLOnyACjj",
        "colab_type": "code",
        "colab": {}
      },
      "source": [
        "def max_heapify(A,n,i): \n",
        "    izq=2*i\n",
        "    der=2*i+1\n",
        "    if izq<n and A[izq]>A[i]:\n",
        "        mayor=izq\n",
        "    else: mayor=i\n",
        "    if der<n and A[der]>A[mayor]:\n",
        "        mayor=der\n",
        "    if mayor!= i:\n",
        "        A[i],A[mayor]=A[mayor],A[i]\n",
        "        max_heapify(A,n,mayor)\n",
        "        \n",
        "def build_max_heap(A,n):\n",
        "    for i in range(n,-1,-1):\n",
        "        max_heapify(A,n,i)\n",
        "\n",
        "        \n",
        "def heapsort(A):\n",
        "    n=len(A)\n",
        "    build_max_heap(A,n)\n",
        "    for i in range(n-1,0,-1):\n",
        "        A[i],A[0]=A[0],A[i]\n",
        "        max_heapify(A,i,0)\n",
        "        \n"
      ],
      "execution_count": 0,
      "outputs": []
    },
    {
      "cell_type": "markdown",
      "metadata": {
        "id": "NpQ3zNwTMPX6",
        "colab_type": "text"
      },
      "source": [
        "- El algoritmo tiene una complejidad $\\mathcal{O}(n\\cdot log(n))$"
      ]
    },
    {
      "cell_type": "markdown",
      "metadata": {
        "id": "XMC2GB33h24L",
        "colab_type": "text"
      },
      "source": [
        "#### **Quick sort**\n",
        "\n",
        "- Propiedades:\n",
        "\n",
        "Se trata de un algoritmo basado en la comparación, inestable, in-place.\n",
        "\n",
        "- Descripción:\n",
        "\n",
        "Quicksort se basa en la técnica de divide y venceras, en esta algoritmo tomamos un elemento como pivote, comparamos el resto de elementos de la lista con el y los separamos segun sean mayores o menores que el pivote, tomamos las dos sublistas y les aplicamos el mismo procedimiento.\n",
        "\n",
        "- Implementación:"
      ]
    },
    {
      "cell_type": "code",
      "metadata": {
        "id": "xBC2SZdXACoh",
        "colab_type": "code",
        "colab": {}
      },
      "source": [
        "def division(A,ini,end): # tomando el primer elemento de la lista como pivote\n",
        "    x=A[end]             # divide la lista en dos sublistas\n",
        "    i=ini-1\n",
        "    for j in range(ini,end):\n",
        "        if A[j]<=x:\n",
        "            i+=1\n",
        "            A[i],A[j]=A[j],A[i]\n",
        "    A[i+1],A[end]=A[end],A[i+1]\n",
        "    return i+1\n",
        "def quicksort(A,ini,end):\n",
        "    if ini<end:\n",
        "        mid=division(A,ini,end) #dividimos la lista\n",
        "        quicksort(A,ini,mid-1)  #aplicamos el algoritmo a cada lado\n",
        "        quicksort(A,mid+1,end)"
      ],
      "execution_count": 0,
      "outputs": []
    },
    {
      "cell_type": "markdown",
      "metadata": {
        "id": "d1dmUjZNjqF9",
        "colab_type": "text"
      },
      "source": [
        "- Complejidad:\n",
        "\n",
        " * En el mejor caso es en el que cada pivote es el elemento central de la lista, en este caso puede demostrarse que el algoritmo tiene una complejidad de $\\mathcal{O}(n \\cdot log(n))$\n",
        " * En el peor caso, el pivote es un extremos y se puede demostrar que se comporta como $\\mathcal{O}(n^2)$ \n",
        " * El caso promedio es $\\mathcal{O}(n \\cdot log(n))$  \n",
        "\n",
        "\n",
        "Esto implica como hemos visto antes que asintóticamente el algoritmo quick sort, merge sort y heap sort tienen una complejidad óptima."
      ]
    },
    {
      "cell_type": "markdown",
      "metadata": {
        "id": "U7MhzeLBkuLz",
        "colab_type": "text"
      },
      "source": [
        "#### **Bubble sort** \n",
        "\n",
        "- Propiedades:\n",
        "\n",
        "Esta basado en comparaciones, estable, In-place.\n",
        "\n",
        "- Descripción:\n",
        "\n",
        "Revisando cada elemento de la lista con el siguiente, intercambiando su posición si estan en el orden equivocado, se repasa toda la lista varias veces hasta que en elguna pasada no se haga ningun cambio en esta caso la lista esta totalmente ordenada.\n",
        "\n",
        "- Implementación:\n",
        "\n"
      ]
    },
    {
      "cell_type": "code",
      "metadata": {
        "id": "BGBPfLp8mlMU",
        "colab_type": "code",
        "colab": {}
      },
      "source": [
        "def bubble_sort(A):\n",
        "  for i in range(len(A)):\n",
        "    for j in range(len(A)-i-1):\n",
        "      if A[i]>A[j]:\n",
        "        A[j], A[j+1] = A[j+1], A[j]"
      ],
      "execution_count": 0,
      "outputs": []
    },
    {
      "cell_type": "markdown",
      "metadata": {
        "id": "Ug2bouSJmtZC",
        "colab_type": "text"
      },
      "source": [
        "- Complejidad:\n",
        "\n",
        "  * En el mejor caso solo repasaremos la lista y veremos que esta ordenada, haciendo n comparaciones, $\\mathcal{O}(n)$\n",
        "  * En el peor caso se repasara la lista como mucho n veces haciendo n comparaciones cada vez, dando $\\mathcal{O}(n^2)$ \n",
        "  * Puede demostrarse que el caso promedio se comporta como, $\\mathcal{O}(n^2)$\n"
      ]
    },
    {
      "cell_type": "markdown",
      "metadata": {
        "id": "1Jm5jQwtNS3s",
        "colab_type": "text"
      },
      "source": [
        "#### Referencias\n",
        "\n",
        "[Referencia Cap 2,6,7 ](https://books.google.es/books?id=NLngYyWFl_YC&pg=PA15&dq=introduction+to+algorithms&psp=1&sig=jX-xfEDWJU3PprUwH8Qfxidli6M&redir_esc=y#v=onepage&q=introduction%20to%20algorithms&f=false) "
      ]
    }
  ]
}