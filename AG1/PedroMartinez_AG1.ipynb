{
  "nbformat": 4,
  "nbformat_minor": 0,
  "metadata": {
    "colab": {
      "name": "PedroMartinez-AG1.ipynb",
      "provenance": [],
      "include_colab_link": true
    },
    "kernelspec": {
      "name": "python3",
      "display_name": "Python 3"
    }
  },
  "cells": [
    {
      "cell_type": "markdown",
      "metadata": {
        "id": "view-in-github",
        "colab_type": "text"
      },
      "source": [
        "<a href=\"https://colab.research.google.com/github/peterm-m/03MARI---Algoritmos-de-Optimizacion---2019/blob/master/AG1/PedroMartinez_AG1.ipynb\" target=\"_parent\"><img src=\"https://colab.research.google.com/assets/colab-badge.svg\" alt=\"Open In Colab\"/></a>"
      ]
    },
    {
      "cell_type": "markdown",
      "metadata": {
        "id": "Qnx-4iXIPvmA",
        "colab_type": "text"
      },
      "source": [
        "# Actividad Guiada 1. Algoritmos de Optimización\n",
        "### Pedro Martinez Moreno\n",
        "\n",
        "https://colab.research.google.com/drive/1lKVJI78noGoXseGzOrOFZJ0eXZ--ynQC"
      ]
    },
    {
      "cell_type": "markdown",
      "metadata": {
        "id": "kHjeGWsmWEPd",
        "colab_type": "text"
      },
      "source": [
        ""
      ]
    }
  ]
}